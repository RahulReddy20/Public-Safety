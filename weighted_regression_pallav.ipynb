{
 "cells": [
  {
   "cell_type": "code",
   "execution_count": 1,
   "id": "f92d8710-907a-4089-b985-81a7ec861e98",
   "metadata": {},
   "outputs": [
    {
     "name": "stdout",
     "output_type": "stream",
     "text": [
      "<bound method NDFrame.head of          Zip Code Day1 of the Week Time1 of Occurrence       Time Bin  \\\n",
      "0         75231.0              Tue               20:00          Night   \n",
      "1         75240.0              Fri               12:00      Afternoon   \n",
      "2         75215.0              Mon               12:00      Afternoon   \n",
      "3         75209.0              Thu               01:38  Early Morning   \n",
      "4         75208.0              Mon               17:30      Afternoon   \n",
      "...           ...              ...                 ...            ...   \n",
      "1127417   75205.0              Sat               10:45        Morning   \n",
      "1127418   75204.0              Mon               19:00          Night   \n",
      "1127419   75225.0              Sat               17:45      Afternoon   \n",
      "1127420   75228.0              Tue               22:30          Night   \n",
      "1127421   75238.0              Tue               12:30      Afternoon   \n",
      "\n",
      "              Division  Sector  Zip-Time-Percentage  Zipcode-Day-Percentage  \\\n",
      "0            NORTHEAST   210.0                33.66                   14.13   \n",
      "1        NORTH CENTRAL   640.0                30.19                   15.33   \n",
      "2              CENTRAL   150.0                29.00                   14.17   \n",
      "3            NORTHWEST   520.0                17.14                   14.23   \n",
      "4            SOUTHWEST   410.0                27.10                   14.38   \n",
      "...                ...     ...                  ...                     ...   \n",
      "1127417        CENTRAL   120.0                19.19                   14.06   \n",
      "1127418        CENTRAL   150.0                34.35                   14.24   \n",
      "1127419  NORTH CENTRAL   650.0                47.23                   15.99   \n",
      "1127420      NORTHEAST   230.0                33.47                   13.73   \n",
      "1127421      NORTHEAST   230.0                27.39                   13.67   \n",
      "\n",
      "         Zipcode-Percentage  Incident_Score  \\\n",
      "0                      3.29              35   \n",
      "1                      2.20              25   \n",
      "2                      3.37              65   \n",
      "3                      0.88              10   \n",
      "4                      2.28              65   \n",
      "...                     ...             ...   \n",
      "1127417                0.36              65   \n",
      "1127418                3.68              85   \n",
      "1127419                0.97              30   \n",
      "1127420                4.81              55   \n",
      "1127421                1.96              70   \n",
      "\n",
      "                                          Type of Incident  \n",
      "0               THEFT OF PROP (AUTO ACC) <$100 - (NOT EMP)  \n",
      "1         FALSE STATEMENT FOR PROPERTY/CREDIT $2500 < $30K  \n",
      "2                          CREDIT CARD OR DEBIT CARD ABUSE  \n",
      "3                          ABANDONED PROPERTY (NO OFFENSE)  \n",
      "4               UNAUTHORIZED USE OF MOTOR VEH - AUTOMOBILE  \n",
      "...                                                    ...  \n",
      "1127417  THEFT OF PROP > OR EQUAL $750 BUT <$2,500 -SHO...  \n",
      "1127418                BURGLARY OF BUILDING - FORCED ENTRY  \n",
      "1127419                                POSS MARIJUANA <2OZ  \n",
      "1127420         CRIM MISCHIEF > OR EQUAL $500 BUT < $1,500  \n",
      "1127421                                     DEADLY CONDUCT  \n",
      "\n",
      "[1127422 rows x 11 columns]>\n"
     ]
    }
   ],
   "source": [
    "import numpy as np # linear algebra\n",
    "import pandas as pd # data processing, CSV file I/O (e.g. pd.read_csv)\n",
    "\n",
    "df = pd.read_csv(\"filtered_data_3.csv\")\n",
    "print(df.head)"
   ]
  },
  {
   "cell_type": "code",
   "execution_count": 2,
   "id": "ef722b7f-1a30-483b-9fe1-72a5921363d8",
   "metadata": {},
   "outputs": [
    {
     "name": "stdout",
     "output_type": "stream",
     "text": [
      "{'Fri': 15.24, 'Sat': 14.91, 'Mon': 14.21, 'Sun': 14.17, 'Thu': 13.97, 'Wed': 13.76, 'Tue': 13.74}\n",
      "         Zip Code Day1 of the Week Time1 of Occurrence       Time Bin  \\\n",
      "0         75231.0              Tue               20:00          Night   \n",
      "1         75240.0              Fri               12:00      Afternoon   \n",
      "2         75215.0              Mon               12:00      Afternoon   \n",
      "3         75209.0              Thu               01:38  Early Morning   \n",
      "4         75208.0              Mon               17:30      Afternoon   \n",
      "...           ...              ...                 ...            ...   \n",
      "1127417   75205.0              Sat               10:45        Morning   \n",
      "1127418   75204.0              Mon               19:00          Night   \n",
      "1127419   75225.0              Sat               17:45      Afternoon   \n",
      "1127420   75228.0              Tue               22:30          Night   \n",
      "1127421   75238.0              Tue               12:30      Afternoon   \n",
      "\n",
      "              Division  Sector  Zip-Time-Percentage  Zipcode-Day-Percentage  \\\n",
      "0            NORTHEAST   210.0                33.66                   14.13   \n",
      "1        NORTH CENTRAL   640.0                30.19                   15.33   \n",
      "2              CENTRAL   150.0                29.00                   14.17   \n",
      "3            NORTHWEST   520.0                17.14                   14.23   \n",
      "4            SOUTHWEST   410.0                27.10                   14.38   \n",
      "...                ...     ...                  ...                     ...   \n",
      "1127417        CENTRAL   120.0                19.19                   14.06   \n",
      "1127418        CENTRAL   150.0                34.35                   14.24   \n",
      "1127419  NORTH CENTRAL   650.0                47.23                   15.99   \n",
      "1127420      NORTHEAST   230.0                33.47                   13.73   \n",
      "1127421      NORTHEAST   230.0                27.39                   13.67   \n",
      "\n",
      "         Zipcode-Percentage  Incident_Score  \\\n",
      "0                      3.29              35   \n",
      "1                      2.20              25   \n",
      "2                      3.37              65   \n",
      "3                      0.88              10   \n",
      "4                      2.28              65   \n",
      "...                     ...             ...   \n",
      "1127417                0.36              65   \n",
      "1127418                3.68              85   \n",
      "1127419                0.97              30   \n",
      "1127420                4.81              55   \n",
      "1127421                1.96              70   \n",
      "\n",
      "                                          Type of Incident  WeekDay-Percentage  \n",
      "0               THEFT OF PROP (AUTO ACC) <$100 - (NOT EMP)               13.74  \n",
      "1         FALSE STATEMENT FOR PROPERTY/CREDIT $2500 < $30K               15.24  \n",
      "2                          CREDIT CARD OR DEBIT CARD ABUSE               14.21  \n",
      "3                          ABANDONED PROPERTY (NO OFFENSE)               13.97  \n",
      "4               UNAUTHORIZED USE OF MOTOR VEH - AUTOMOBILE               14.21  \n",
      "...                                                    ...                 ...  \n",
      "1127417  THEFT OF PROP > OR EQUAL $750 BUT <$2,500 -SHO...               14.91  \n",
      "1127418                BURGLARY OF BUILDING - FORCED ENTRY               14.21  \n",
      "1127419                                POSS MARIJUANA <2OZ               14.91  \n",
      "1127420         CRIM MISCHIEF > OR EQUAL $500 BUT < $1,500               13.74  \n",
      "1127421                                     DEADLY CONDUCT               13.74  \n",
      "\n",
      "[1127422 rows x 12 columns]\n"
     ]
    }
   ],
   "source": [
    "subset_df_4 = df\n",
    "# Calculate the total incident count for each day\n",
    "day_counts = subset_df_4.groupby('Day1 of the Week').size().reset_index(name='IncidentCount')\n",
    "\n",
    "# Calculate the total number of incidents in the subset\n",
    "total_incidents = day_counts['IncidentCount'].sum()\n",
    "\n",
    "# Calculate the percentage for each day and round to 2 decimal places\n",
    "day_counts['Percentage'] = round((day_counts['IncidentCount'] / total_incidents) * 100, 2)\n",
    "\n",
    "# Convert the day_counts DataFrame to a dictionary\n",
    "day_incident_dict = dict(zip(day_counts['Day1 of the Week'], day_counts['Percentage']))\n",
    "\n",
    "sorted_day_incident_dict = dict(sorted(day_incident_dict.items(), key=lambda item: item[1], reverse=True))\n",
    "\n",
    "print(sorted_day_incident_dict)\n",
    "\n",
    "# Create a DataFrame from the sorted dictionary\n",
    "table_df = pd.DataFrame(sorted_day_incident_dict.items(), columns=['Day1 of the Week', 'Percentage'])\n",
    "\n",
    "# table_df.to_csv('zipcode_percentage.csv', index=False)\n",
    "# Merge the 'Percentage' column from 'table_df' into the original 'df' and rename it\n",
    "df = df.merge(table_df[['Day1 of the Week', 'Percentage']], on='Day1 of the Week', how='left').rename(columns={'Percentage': 'WeekDay-Percentage'})\n",
    "\n",
    "# Print the updated DataFrame to verify\n",
    "print(df)"
   ]
  },
  {
   "cell_type": "code",
   "execution_count": 3,
   "id": "3d6cb0de-70da-48f5-a0b3-f00bf0415b8e",
   "metadata": {},
   "outputs": [],
   "source": [
    "# Define time bins\n",
    "time_bins = {\n",
    "    'Night': ('18:00', '23:59'),\n",
    "    'Early Morning': ('00:00', '05:59'),\n",
    "    'Morning': ('06:00', '11:59'),\n",
    "    'Afternoon': ('12:00', '17:59')\n",
    "}\n",
    "\n",
    "# Create a function to assign time bins\n",
    "def assign_time_bin(time):\n",
    "    for bin_label, (start_time, end_time) in time_bins.items():\n",
    "        if start_time <= time <= end_time:\n",
    "            return bin_label\n",
    "    return 'Unknown'\n",
    "\n",
    "# Assign time bins to each row in the DataFrame\n",
    "df['Time Bin'] = df['Time1 of Occurrence'].apply(assign_time_bin)"
   ]
  },
  {
   "cell_type": "code",
   "execution_count": 4,
   "id": "2dcb2677-0b41-4aab-8643-4c7f5765fbe5",
   "metadata": {},
   "outputs": [
    {
     "name": "stdout",
     "output_type": "stream",
     "text": [
      "         Zip Code Day1 of the Week Time1 of Occurrence       Time Bin  \\\n",
      "0         75231.0              Tue               20:00          Night   \n",
      "1         75240.0              Fri               12:00      Afternoon   \n",
      "2         75215.0              Mon               12:00      Afternoon   \n",
      "3         75209.0              Thu               01:38  Early Morning   \n",
      "4         75208.0              Mon               17:30      Afternoon   \n",
      "...           ...              ...                 ...            ...   \n",
      "1127417   75205.0              Sat               10:45        Morning   \n",
      "1127418   75204.0              Mon               19:00          Night   \n",
      "1127419   75225.0              Sat               17:45      Afternoon   \n",
      "1127420   75228.0              Tue               22:30          Night   \n",
      "1127421   75238.0              Tue               12:30      Afternoon   \n",
      "\n",
      "              Division  Sector  Zip-Time-Percentage  Zipcode-Day-Percentage  \\\n",
      "0            NORTHEAST   210.0                33.66                   14.13   \n",
      "1        NORTH CENTRAL   640.0                30.19                   15.33   \n",
      "2              CENTRAL   150.0                29.00                   14.17   \n",
      "3            NORTHWEST   520.0                17.14                   14.23   \n",
      "4            SOUTHWEST   410.0                27.10                   14.38   \n",
      "...                ...     ...                  ...                     ...   \n",
      "1127417        CENTRAL   120.0                19.19                   14.06   \n",
      "1127418        CENTRAL   150.0                34.35                   14.24   \n",
      "1127419  NORTH CENTRAL   650.0                47.23                   15.99   \n",
      "1127420      NORTHEAST   230.0                33.47                   13.73   \n",
      "1127421      NORTHEAST   230.0                27.39                   13.67   \n",
      "\n",
      "         Zipcode-Percentage  Incident_Score  \\\n",
      "0                      3.29              35   \n",
      "1                      2.20              25   \n",
      "2                      3.37              65   \n",
      "3                      0.88              10   \n",
      "4                      2.28              65   \n",
      "...                     ...             ...   \n",
      "1127417                0.36              65   \n",
      "1127418                3.68              85   \n",
      "1127419                0.97              30   \n",
      "1127420                4.81              55   \n",
      "1127421                1.96              70   \n",
      "\n",
      "                                          Type of Incident  \\\n",
      "0               THEFT OF PROP (AUTO ACC) <$100 - (NOT EMP)   \n",
      "1         FALSE STATEMENT FOR PROPERTY/CREDIT $2500 < $30K   \n",
      "2                          CREDIT CARD OR DEBIT CARD ABUSE   \n",
      "3                          ABANDONED PROPERTY (NO OFFENSE)   \n",
      "4               UNAUTHORIZED USE OF MOTOR VEH - AUTOMOBILE   \n",
      "...                                                    ...   \n",
      "1127417  THEFT OF PROP > OR EQUAL $750 BUT <$2,500 -SHO...   \n",
      "1127418                BURGLARY OF BUILDING - FORCED ENTRY   \n",
      "1127419                                POSS MARIJUANA <2OZ   \n",
      "1127420         CRIM MISCHIEF > OR EQUAL $500 BUT < $1,500   \n",
      "1127421                                     DEADLY CONDUCT   \n",
      "\n",
      "         WeekDay-Percentage  TimeBin-Percentage  \n",
      "0                     13.74               32.14  \n",
      "1                     15.24               27.44  \n",
      "2                     14.21               27.44  \n",
      "3                     13.97               21.08  \n",
      "4                     14.21               27.44  \n",
      "...                     ...                 ...  \n",
      "1127417               14.91               19.35  \n",
      "1127418               14.21               32.14  \n",
      "1127419               14.91               27.44  \n",
      "1127420               13.74               32.14  \n",
      "1127421               13.74               27.44  \n",
      "\n",
      "[1127422 rows x 13 columns]\n"
     ]
    }
   ],
   "source": [
    "# Calculate the total incident count for each Zip Code\n",
    "timebin_counts = df.groupby('Time Bin').size().reset_index(name='IncidentCount')\n",
    "\n",
    "# Calculate the total number of incidents in the subset\n",
    "total_incidents = timebin_counts['IncidentCount'].sum()\n",
    "\n",
    "# Calculate the percentage for each Zip Code and round to 2 decimal places\n",
    "timebin_counts['Percentage'] = round((timebin_counts['IncidentCount'] / total_incidents) * 100, 2)\n",
    "\n",
    "# Convert the DataFrame to a dictionary\n",
    "timebin_incident_dict = dict(zip(timebin_counts['Time Bin'], timebin_counts['Percentage']))\n",
    "\n",
    "# Sort the dictionary by percentage in descending order\n",
    "sorted_timebin_incident_dict = dict(sorted(timebin_incident_dict.items(), key=lambda item: item[1], reverse=True))\n",
    "\n",
    "# Create a DataFrame from the sorted dictionary\n",
    "table_df = pd.DataFrame(sorted_timebin_incident_dict.items(), columns=['Time Bin', 'Percentage'])\n",
    "\n",
    "# table_df.to_csv('zipcode_percentage.csv', index=False)\n",
    "# Merge the 'Percentage' column from 'table_df' into the original 'df' and rename it\n",
    "df = df.merge(table_df[['Time Bin', 'Percentage']], on='Time Bin', how='left').rename(columns={'Percentage': 'TimeBin-Percentage'})\n",
    "\n",
    "# Print the updated DataFrame to verify\n",
    "print(df)"
   ]
  },
  {
   "cell_type": "code",
   "execution_count": 5,
   "id": "d7c9f78a-81ab-4e60-b469-ebbf5cabb22b",
   "metadata": {},
   "outputs": [
    {
     "name": "stdout",
     "output_type": "stream",
     "text": [
      "4476\n"
     ]
    }
   ],
   "source": [
    "zipcodePercentageNullCount = df['Zipcode-Percentage'].isnull().sum()\n",
    "print(zipcodePercentageNullCount)"
   ]
  },
  {
   "cell_type": "code",
   "execution_count": 6,
   "id": "edba6f50-09f0-46df-9302-047b7c2c40cb",
   "metadata": {},
   "outputs": [
    {
     "name": "stdout",
     "output_type": "stream",
     "text": [
      "0\n"
     ]
    }
   ],
   "source": [
    "df['Zipcode-Percentage'] = df['Zipcode-Percentage'].fillna(0)\n",
    "zipcodePercentageNullCount = df['Zipcode-Percentage'].isnull().sum()\n",
    "print(zipcodePercentageNullCount)"
   ]
  },
  {
   "cell_type": "code",
   "execution_count": 7,
   "id": "b490a60b-2c0b-452a-998f-6a36d5d54d8c",
   "metadata": {},
   "outputs": [],
   "source": [
    "df['Proxy Safety Score'] = (\n",
    "    df['Zipcode-Percentage'] * 0.3 +  # Adjust weights as needed\n",
    "    df['Incident_Score'] * 0.3 +  # Adjust weights as needed\n",
    "    df['WeekDay-Percentage'] * 0.2 +  # Adjust weights as needed\n",
    "    df['TimeBin-Percentage'] * 0.2  # Adjust weights as needed\n",
    ")"
   ]
  },
  {
   "cell_type": "code",
   "execution_count": 8,
   "id": "7d63576f-53f2-4b60-8154-d89e01c0507c",
   "metadata": {},
   "outputs": [
    {
     "name": "stdout",
     "output_type": "stream",
     "text": [
      "         Zip Code Day1 of the Week Time1 of Occurrence       Time Bin  \\\n",
      "0         75231.0              Tue               20:00          Night   \n",
      "1         75240.0              Fri               12:00      Afternoon   \n",
      "2         75215.0              Mon               12:00      Afternoon   \n",
      "3         75209.0              Thu               01:38  Early Morning   \n",
      "4         75208.0              Mon               17:30      Afternoon   \n",
      "...           ...              ...                 ...            ...   \n",
      "1127417   75205.0              Sat               10:45        Morning   \n",
      "1127418   75204.0              Mon               19:00          Night   \n",
      "1127419   75225.0              Sat               17:45      Afternoon   \n",
      "1127420   75228.0              Tue               22:30          Night   \n",
      "1127421   75238.0              Tue               12:30      Afternoon   \n",
      "\n",
      "              Division  Sector  Zip-Time-Percentage  Zipcode-Day-Percentage  \\\n",
      "0            NORTHEAST   210.0                33.66                   14.13   \n",
      "1        NORTH CENTRAL   640.0                30.19                   15.33   \n",
      "2              CENTRAL   150.0                29.00                   14.17   \n",
      "3            NORTHWEST   520.0                17.14                   14.23   \n",
      "4            SOUTHWEST   410.0                27.10                   14.38   \n",
      "...                ...     ...                  ...                     ...   \n",
      "1127417        CENTRAL   120.0                19.19                   14.06   \n",
      "1127418        CENTRAL   150.0                34.35                   14.24   \n",
      "1127419  NORTH CENTRAL   650.0                47.23                   15.99   \n",
      "1127420      NORTHEAST   230.0                33.47                   13.73   \n",
      "1127421      NORTHEAST   230.0                27.39                   13.67   \n",
      "\n",
      "         Zipcode-Percentage  Incident_Score  \\\n",
      "0                      3.29              35   \n",
      "1                      2.20              25   \n",
      "2                      3.37              65   \n",
      "3                      0.88              10   \n",
      "4                      2.28              65   \n",
      "...                     ...             ...   \n",
      "1127417                0.36              65   \n",
      "1127418                3.68              85   \n",
      "1127419                0.97              30   \n",
      "1127420                4.81              55   \n",
      "1127421                1.96              70   \n",
      "\n",
      "                                          Type of Incident  \\\n",
      "0               THEFT OF PROP (AUTO ACC) <$100 - (NOT EMP)   \n",
      "1         FALSE STATEMENT FOR PROPERTY/CREDIT $2500 < $30K   \n",
      "2                          CREDIT CARD OR DEBIT CARD ABUSE   \n",
      "3                          ABANDONED PROPERTY (NO OFFENSE)   \n",
      "4               UNAUTHORIZED USE OF MOTOR VEH - AUTOMOBILE   \n",
      "...                                                    ...   \n",
      "1127417  THEFT OF PROP > OR EQUAL $750 BUT <$2,500 -SHO...   \n",
      "1127418                BURGLARY OF BUILDING - FORCED ENTRY   \n",
      "1127419                                POSS MARIJUANA <2OZ   \n",
      "1127420         CRIM MISCHIEF > OR EQUAL $500 BUT < $1,500   \n",
      "1127421                                     DEADLY CONDUCT   \n",
      "\n",
      "         WeekDay-Percentage  TimeBin-Percentage  Proxy Safety Score  \n",
      "0                     13.74               32.14              20.663  \n",
      "1                     15.24               27.44              16.696  \n",
      "2                     14.21               27.44              28.841  \n",
      "3                     13.97               21.08              10.274  \n",
      "4                     14.21               27.44              28.514  \n",
      "...                     ...                 ...                 ...  \n",
      "1127417               14.91               19.35              26.460  \n",
      "1127418               14.21               32.14              35.874  \n",
      "1127419               14.91               27.44              17.761  \n",
      "1127420               13.74               32.14              27.119  \n",
      "1127421               13.74               27.44              29.824  \n",
      "\n",
      "[1127422 rows x 14 columns]\n"
     ]
    }
   ],
   "source": [
    "print(df)"
   ]
  },
  {
   "cell_type": "code",
   "execution_count": 9,
   "id": "9a7d307a-acda-473c-a942-565b2ff6785d",
   "metadata": {},
   "outputs": [
    {
     "data": {
      "image/png": "[encoded data removed]",
      "text/plain": [
       "<Figure size 640x480 with 1 Axes>"
      ]
     },
     "metadata": {},
     "output_type": "display_data"
    }
   ],
   "source": [
    "import matplotlib.pyplot as plt\n",
    "\n",
    "data = df['Proxy Safety Score']\n",
    "\n",
    "# Create a histogram\n",
    "plt.hist(data, bins=20, color='blue', alpha=0.7)\n",
    "\n",
    "# Add labels and a title\n",
    "plt.xlabel('Values')\n",
    "plt.ylabel('Frequency')\n",
    "plt.title('Distribution of Safety Score values')\n",
    "\n",
    "# Show the plot\n",
    "plt.show()"
   ]
  },
  {
   "cell_type": "code",
   "execution_count": 10,
   "id": "0a5464b6-0b81-4c65-bc73-f220b980b51e",
   "metadata": {},
   "outputs": [
    {
     "data": {
      "image/png": "[encoded data removed]",
      "text/plain": [
       "<Figure size 640x480 with 1 Axes>"
      ]
     },
     "metadata": {},
     "output_type": "display_data"
    }
   ],
   "source": [
    "# Create a box plot\n",
    "plt.boxplot(data)\n",
    "\n",
    "# Add labels and a title\n",
    "plt.ylabel('Values')\n",
    "plt.title('Quartile Plot of Safety Score')\n",
    "\n",
    "# Show the plot\n",
    "plt.show()"
   ]
  },
  {
   "cell_type": "code",
   "execution_count": null,
   "id": "1a466eae-9e2e-4284-b82c-bfcddfadb4c8",
   "metadata": {},
   "outputs": [],
   "source": []
  }
 ],
 "metadata": {
  "kernelspec": {
   "display_name": "Python 3 (ipykernel)",
   "language": "python",
   "name": "python3"
  },
  "language_info": {
   "codemirror_mode": {
    "name": "ipython",
    "version": 3
   },
   "file_extension": ".py",
   "mimetype": "text/x-python",
   "name": "python",
   "nbconvert_exporter": "python",
   "pygments_lexer": "ipython3",
   "version": "3.9.6"
  }
 },
 "nbformat": 4,
 "nbformat_minor": 5
}
