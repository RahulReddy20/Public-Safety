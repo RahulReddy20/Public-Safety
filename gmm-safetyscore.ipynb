{
 "cells": [
  {
   "cell_type": "code",
   "execution_count": 1,
   "id": "44c95c19",
   "metadata": {
    "_cell_guid": "b1076dfc-b9ad-4769-8c92-a6c4dae69d19",
    "_uuid": "8f2839f25d086af736a60e9eeb907d3b93b6e0e5",
    "execution": {
     "iopub.execute_input": "2023-10-20T17:54:14.499882Z",
     "iopub.status.busy": "2023-10-20T17:54:14.499458Z",
     "iopub.status.idle": "2023-10-20T17:54:14.826828Z",
     "shell.execute_reply": "2023-10-20T17:54:14.825881Z"
    },
    "papermill": {
     "duration": 0.338541,
     "end_time": "2023-10-20T17:54:14.831267",
     "exception": false,
     "start_time": "2023-10-20T17:54:14.492726",
     "status": "completed"
    },
    "tags": []
   },
   "outputs": [
    {
     "name": "stdout",
     "output_type": "stream",
     "text": [
      "/kaggle/input/preprocessed-dallas-public-safety/filtered_data_3.csv\n"
     ]
    }
   ],
   "source": [
    "# This Python 3 environment comes with many helpful analytics libraries installed\n",
    "# It is defined by the kaggle/python Docker image: https://github.com/kaggle/docker-python\n",
    "# For example, here's several helpful packages to load\n",
    "\n",
    "import numpy as np # linear algebra\n",
    "import pandas as pd # data processing, CSV file I/O (e.g. pd.read_csv)\n",
    "\n",
    "# Input data files are available in the read-only \"../input/\" directory\n",
    "# For example, running this (by clicking run or pressing Shift+Enter) will list all files under the input directory\n",
    "\n",
    "import os\n",
    "for dirname, _, filenames in os.walk('/kaggle/input'):\n",
    "    for filename in filenames:\n",
    "        print(os.path.join(dirname, filename))\n",
    "\n",
    "# You can write up to 20GB to the current directory (/kaggle/working/) that gets preserved as output when you create a version using \"Save & Run All\" \n",
    "# You can also write temporary files to /kaggle/temp/, but they won't be saved outside of the current session"
   ]
  },
  {
   "cell_type": "code",
   "execution_count": 2,
   "id": "f9c43c66",
   "metadata": {
    "execution": {
     "iopub.execute_input": "2023-10-20T17:54:14.841553Z",
     "iopub.status.busy": "2023-10-20T17:54:14.840994Z",
     "iopub.status.idle": "2023-10-20T17:54:16.873039Z",
     "shell.execute_reply": "2023-10-20T17:54:16.871587Z"
    },
    "papermill": {
     "duration": 2.039931,
     "end_time": "2023-10-20T17:54:16.875536",
     "exception": false,
     "start_time": "2023-10-20T17:54:14.835605",
     "status": "completed"
    },
    "tags": []
   },
   "outputs": [],
   "source": [
    "import pandas as pd\n",
    "import numpy as np\n",
    "from sklearn.mixture import GaussianMixture\n",
    "from sklearn.preprocessing import StandardScaler, OneHotEncoder, MinMaxScaler\n",
    "from sklearn.compose import ColumnTransformer\n",
    "from sklearn.model_selection import cross_val_score\n",
    "from sklearn.ensemble import RandomForestRegressor"
   ]
  },
  {
   "cell_type": "code",
   "execution_count": 3,
   "id": "11b632a4",
   "metadata": {
    "execution": {
     "iopub.execute_input": "2023-10-20T17:54:16.885983Z",
     "iopub.status.busy": "2023-10-20T17:54:16.885645Z",
     "iopub.status.idle": "2023-10-20T17:54:19.515248Z",
     "shell.execute_reply": "2023-10-20T17:54:19.513620Z"
    },
    "papermill": {
     "duration": 2.638524,
     "end_time": "2023-10-20T17:54:19.518475",
     "exception": false,
     "start_time": "2023-10-20T17:54:16.879951",
     "status": "completed"
    },
    "tags": []
   },
   "outputs": [],
   "source": [
    "# Load your dataset\n",
    "data = pd.read_csv('/kaggle/input/preprocessed-dallas-public-safety/filtered_data_3.csv')"
   ]
  },
  {
   "cell_type": "code",
   "execution_count": 4,
   "id": "b100665a",
   "metadata": {
    "execution": {
     "iopub.execute_input": "2023-10-20T17:54:19.529088Z",
     "iopub.status.busy": "2023-10-20T17:54:19.528666Z",
     "iopub.status.idle": "2023-10-20T17:54:19.831948Z",
     "shell.execute_reply": "2023-10-20T17:54:19.830864Z"
    },
    "papermill": {
     "duration": 0.311163,
     "end_time": "2023-10-20T17:54:19.834219",
     "exception": false,
     "start_time": "2023-10-20T17:54:19.523056",
     "status": "completed"
    },
    "tags": []
   },
   "outputs": [],
   "source": [
    "data = data.dropna()\n"
   ]
  },
  {
   "cell_type": "code",
   "execution_count": 5,
   "id": "79bef9b8",
   "metadata": {
    "execution": {
     "iopub.execute_input": "2023-10-20T17:54:19.845247Z",
     "iopub.status.busy": "2023-10-20T17:54:19.843865Z",
     "iopub.status.idle": "2023-10-20T17:54:19.871210Z",
     "shell.execute_reply": "2023-10-20T17:54:19.869873Z"
    },
    "papermill": {
     "duration": 0.034681,
     "end_time": "2023-10-20T17:54:19.873257",
     "exception": false,
     "start_time": "2023-10-20T17:54:19.838576",
     "status": "completed"
    },
    "tags": []
   },
   "outputs": [
    {
     "data": {
      "text/plain": [
       "<bound method NDFrame.head of          Zip Code Day1 of the Week Time1 of Occurrence       Time Bin  \\\n",
       "0         75231.0              Tue               20:00          Night   \n",
       "1         75240.0              Fri               12:00      Afternoon   \n",
       "2         75215.0              Mon               12:00      Afternoon   \n",
       "3         75209.0              Thu               01:38  Early Morning   \n",
       "4         75208.0              Mon               17:30      Afternoon   \n",
       "...           ...              ...                 ...            ...   \n",
       "1127417   75205.0              Sat               10:45        Morning   \n",
       "1127418   75204.0              Mon               19:00          Night   \n",
       "1127419   75225.0              Sat               17:45      Afternoon   \n",
       "1127420   75228.0              Tue               22:30          Night   \n",
       "1127421   75238.0              Tue               12:30      Afternoon   \n",
       "\n",
       "              Division  Sector  Zip-Time-Percentage  Zipcode-Day-Percentage  \\\n",
       "0            NORTHEAST   210.0                33.66                   14.13   \n",
       "1        NORTH CENTRAL   640.0                30.19                   15.33   \n",
       "2              CENTRAL   150.0                29.00                   14.17   \n",
       "3            NORTHWEST   520.0                17.14                   14.23   \n",
       "4            SOUTHWEST   410.0                27.10                   14.38   \n",
       "...                ...     ...                  ...                     ...   \n",
       "1127417        CENTRAL   120.0                19.19                   14.06   \n",
       "1127418        CENTRAL   150.0                34.35                   14.24   \n",
       "1127419  NORTH CENTRAL   650.0                47.23                   15.99   \n",
       "1127420      NORTHEAST   230.0                33.47                   13.73   \n",
       "1127421      NORTHEAST   230.0                27.39                   13.67   \n",
       "\n",
       "         Zipcode-Percentage  Incident_Score  \\\n",
       "0                      3.29              35   \n",
       "1                      2.20              25   \n",
       "2                      3.37              65   \n",
       "3                      0.88              10   \n",
       "4                      2.28              65   \n",
       "...                     ...             ...   \n",
       "1127417                0.36              65   \n",
       "1127418                3.68              85   \n",
       "1127419                0.97              30   \n",
       "1127420                4.81              55   \n",
       "1127421                1.96              70   \n",
       "\n",
       "                                          Type of Incident  \n",
       "0               THEFT OF PROP (AUTO ACC) <$100 - (NOT EMP)  \n",
       "1         FALSE STATEMENT FOR PROPERTY/CREDIT $2500 < $30K  \n",
       "2                          CREDIT CARD OR DEBIT CARD ABUSE  \n",
       "3                          ABANDONED PROPERTY (NO OFFENSE)  \n",
       "4               UNAUTHORIZED USE OF MOTOR VEH - AUTOMOBILE  \n",
       "...                                                    ...  \n",
       "1127417  THEFT OF PROP > OR EQUAL $750 BUT <$2,500 -SHO...  \n",
       "1127418                BURGLARY OF BUILDING - FORCED ENTRY  \n",
       "1127419                                POSS MARIJUANA <2OZ  \n",
       "1127420         CRIM MISCHIEF > OR EQUAL $500 BUT < $1,500  \n",
       "1127421                                     DEADLY CONDUCT  \n",
       "\n",
       "[1122623 rows x 11 columns]>"
      ]
     },
     "execution_count": 5,
     "metadata": {},
     "output_type": "execute_result"
    }
   ],
   "source": [
    "data.head"
   ]
  },
  {
   "cell_type": "code",
   "execution_count": 6,
   "id": "36e89c34",
   "metadata": {
    "execution": {
     "iopub.execute_input": "2023-10-20T17:54:19.883772Z",
     "iopub.status.busy": "2023-10-20T17:54:19.883412Z",
     "iopub.status.idle": "2023-10-20T17:54:19.888988Z",
     "shell.execute_reply": "2023-10-20T17:54:19.887552Z"
    },
    "papermill": {
     "duration": 0.014538,
     "end_time": "2023-10-20T17:54:19.892227",
     "exception": false,
     "start_time": "2023-10-20T17:54:19.877689",
     "status": "completed"
    },
    "tags": []
   },
   "outputs": [],
   "source": [
    "# Define the features for clustering\n",
    "features_for_clustering = ['Zip Code', 'Time Bin', 'Day1 of the Week', \n",
    "                           'Zipcode-Percentage',\n",
    "                           'Zipcode-Day-Percentage',\n",
    "                           'Zip-Time-Percentage',\n",
    "                           'Incident_Score']\n"
   ]
  },
  {
   "cell_type": "code",
   "execution_count": 7,
   "id": "64341fdc",
   "metadata": {
    "execution": {
     "iopub.execute_input": "2023-10-20T17:54:19.904655Z",
     "iopub.status.busy": "2023-10-20T17:54:19.904296Z",
     "iopub.status.idle": "2023-10-20T17:54:19.909047Z",
     "shell.execute_reply": "2023-10-20T17:54:19.907848Z"
    },
    "papermill": {
     "duration": 0.014646,
     "end_time": "2023-10-20T17:54:19.911843",
     "exception": false,
     "start_time": "2023-10-20T17:54:19.897197",
     "status": "completed"
    },
    "tags": []
   },
   "outputs": [],
   "source": [
    "# Separate numerical and categorical features\n",
    "numeric_features = ['Zipcode-Percentage',\n",
    "                           'Zipcode-Day-Percentage',\n",
    "                           'Zip-Time-Percentage',\n",
    "                           'Incident_Score']"
   ]
  },
  {
   "cell_type": "code",
   "execution_count": 8,
   "id": "00c3d446",
   "metadata": {
    "execution": {
     "iopub.execute_input": "2023-10-20T17:54:19.924221Z",
     "iopub.status.busy": "2023-10-20T17:54:19.921884Z",
     "iopub.status.idle": "2023-10-20T17:54:19.928478Z",
     "shell.execute_reply": "2023-10-20T17:54:19.927420Z"
    },
    "papermill": {
     "duration": 0.014339,
     "end_time": "2023-10-20T17:54:19.930690",
     "exception": false,
     "start_time": "2023-10-20T17:54:19.916351",
     "status": "completed"
    },
    "tags": []
   },
   "outputs": [],
   "source": [
    "categorical_features = ['Zip Code', 'Time Bin', 'Day1 of the Week']\n"
   ]
  },
  {
   "cell_type": "code",
   "execution_count": 9,
   "id": "fb72a182",
   "metadata": {
    "execution": {
     "iopub.execute_input": "2023-10-20T17:54:19.940940Z",
     "iopub.status.busy": "2023-10-20T17:54:19.940595Z",
     "iopub.status.idle": "2023-10-20T17:54:19.944695Z",
     "shell.execute_reply": "2023-10-20T17:54:19.943687Z"
    },
    "papermill": {
     "duration": 0.011122,
     "end_time": "2023-10-20T17:54:19.946245",
     "exception": false,
     "start_time": "2023-10-20T17:54:19.935123",
     "status": "completed"
    },
    "tags": []
   },
   "outputs": [],
   "source": [
    "# Create transformers for numeric and categorical features\n",
    "numeric_transformer = StandardScaler()\n",
    "categorical_transformer = OneHotEncoder(drop='first')"
   ]
  },
  {
   "cell_type": "code",
   "execution_count": 10,
   "id": "cd96b190",
   "metadata": {
    "execution": {
     "iopub.execute_input": "2023-10-20T17:54:19.958016Z",
     "iopub.status.busy": "2023-10-20T17:54:19.957317Z",
     "iopub.status.idle": "2023-10-20T17:54:19.961991Z",
     "shell.execute_reply": "2023-10-20T17:54:19.960937Z"
    },
    "papermill": {
     "duration": 0.013164,
     "end_time": "2023-10-20T17:54:19.964435",
     "exception": false,
     "start_time": "2023-10-20T17:54:19.951271",
     "status": "completed"
    },
    "tags": []
   },
   "outputs": [],
   "source": [
    "# Create a preprocessor that applies the transformers\n",
    "preprocessor = ColumnTransformer(\n",
    "    transformers=[\n",
    "        ('num', numeric_transformer, numeric_features),\n",
    "        ('cat', categorical_transformer, categorical_features)])"
   ]
  },
  {
   "cell_type": "code",
   "execution_count": 11,
   "id": "f36dc5c7",
   "metadata": {
    "execution": {
     "iopub.execute_input": "2023-10-20T17:54:19.975235Z",
     "iopub.status.busy": "2023-10-20T17:54:19.974861Z",
     "iopub.status.idle": "2023-10-20T17:54:21.360268Z",
     "shell.execute_reply": "2023-10-20T17:54:21.358854Z"
    },
    "papermill": {
     "duration": 1.393797,
     "end_time": "2023-10-20T17:54:21.362836",
     "exception": false,
     "start_time": "2023-10-20T17:54:19.969039",
     "status": "completed"
    },
    "tags": []
   },
   "outputs": [],
   "source": [
    "# Fit the preprocessor to the data and transform the features\n",
    "data_encoded_normalized = preprocessor.fit_transform(data[features_for_clustering])\n"
   ]
  },
  {
   "cell_type": "code",
   "execution_count": 12,
   "id": "4f498a24",
   "metadata": {
    "execution": {
     "iopub.execute_input": "2023-10-20T17:54:21.373047Z",
     "iopub.status.busy": "2023-10-20T17:54:21.372673Z",
     "iopub.status.idle": "2023-10-20T17:54:21.379137Z",
     "shell.execute_reply": "2023-10-20T17:54:21.376889Z"
    },
    "papermill": {
     "duration": 0.014594,
     "end_time": "2023-10-20T17:54:21.381787",
     "exception": false,
     "start_time": "2023-10-20T17:54:21.367193",
     "status": "completed"
    },
    "tags": []
   },
   "outputs": [],
   "source": [
    "\n",
    "# Create a Gaussian Mixture Model with the desired number of components (clusters)\n",
    "n_components = 5  # You can adjust this\n",
    "gmm = GaussianMixture(n_components=n_components, random_state=42)"
   ]
  },
  {
   "cell_type": "code",
   "execution_count": 13,
   "id": "3735c65d",
   "metadata": {
    "execution": {
     "iopub.execute_input": "2023-10-20T17:54:21.395524Z",
     "iopub.status.busy": "2023-10-20T17:54:21.394372Z",
     "iopub.status.idle": "2023-10-20T17:57:19.996111Z",
     "shell.execute_reply": "2023-10-20T17:57:19.994468Z"
    },
    "papermill": {
     "duration": 178.610247,
     "end_time": "2023-10-20T17:57:19.998749",
     "exception": false,
     "start_time": "2023-10-20T17:54:21.388502",
     "status": "completed"
    },
    "tags": []
   },
   "outputs": [],
   "source": [
    "# Fit the GMM model and get cluster assignments\n",
    "data['Cluster'] = gmm.fit_predict(data_encoded_normalized.toarray())"
   ]
  },
  {
   "cell_type": "code",
   "execution_count": 14,
   "id": "c31b5efc",
   "metadata": {
    "execution": {
     "iopub.execute_input": "2023-10-20T17:57:20.009584Z",
     "iopub.status.busy": "2023-10-20T17:57:20.009199Z",
     "iopub.status.idle": "2023-10-20T17:57:20.015517Z",
     "shell.execute_reply": "2023-10-20T17:57:20.013705Z"
    },
    "papermill": {
     "duration": 0.014796,
     "end_time": "2023-10-20T17:57:20.018226",
     "exception": false,
     "start_time": "2023-10-20T17:57:20.003430",
     "status": "completed"
    },
    "tags": []
   },
   "outputs": [],
   "source": [
    "# Create a function to sample Safety Scores from the cluster's distribution\n",
    "def sample_safety_score(cluster_mean, cluster_cov):\n",
    "    return np.random.normal(cluster_mean, np.sqrt(cluster_cov))"
   ]
  },
  {
   "cell_type": "code",
   "execution_count": 15,
   "id": "37a17bfa",
   "metadata": {
    "execution": {
     "iopub.execute_input": "2023-10-20T17:57:20.029440Z",
     "iopub.status.busy": "2023-10-20T17:57:20.029039Z",
     "iopub.status.idle": "2023-10-20T17:57:25.862073Z",
     "shell.execute_reply": "2023-10-20T17:57:25.860239Z"
    },
    "papermill": {
     "duration": 5.841648,
     "end_time": "2023-10-20T17:57:25.864569",
     "exception": false,
     "start_time": "2023-10-20T17:57:20.022921",
     "status": "completed"
    },
    "tags": []
   },
   "outputs": [],
   "source": [
    "# Iterate through each cluster to assign Safety Scores\n",
    "for cluster_id, cluster_data in data.groupby('Cluster'):\n",
    "    cluster_mean = cluster_data['Incident_Score'].mean()\n",
    "    cluster_cov = cluster_data['Incident_Score'].var()\n",
    "    data.loc[data['Cluster'] == cluster_id, 'Predicted Safety Score'] = cluster_data.apply(lambda row: sample_safety_score(cluster_mean, cluster_cov), axis=1)\n",
    "\n",
    "# Create a Min-Max scaler\n",
    "scaler = MinMaxScaler(feature_range=(0, 100))\n",
    "\n",
    "# Fit and transform the 'Predicted Safety Score' column\n",
    "data['Predicted Safety Score'] = scaler.fit_transform(data['Predicted Safety Score'].values.reshape(-1, 1))\n"
   ]
  },
  {
   "cell_type": "code",
   "execution_count": 16,
   "id": "383dd56b",
   "metadata": {
    "execution": {
     "iopub.execute_input": "2023-10-20T17:57:25.874690Z",
     "iopub.status.busy": "2023-10-20T17:57:25.874331Z",
     "iopub.status.idle": "2023-10-20T17:57:31.899496Z",
     "shell.execute_reply": "2023-10-20T17:57:31.898231Z"
    },
    "papermill": {
     "duration": 6.03318,
     "end_time": "2023-10-20T17:57:31.902025",
     "exception": false,
     "start_time": "2023-10-20T17:57:25.868845",
     "status": "completed"
    },
    "tags": []
   },
   "outputs": [],
   "source": [
    "# Save the updated dataset with the predicted Safety Scores\n",
    "data.to_csv('/kaggle/working/dataset_with_safety_scores.csv', index=False)"
   ]
  },
  {
   "cell_type": "code",
   "execution_count": 17,
   "id": "5103ff22",
   "metadata": {
    "execution": {
     "iopub.execute_input": "2023-10-20T17:57:31.912100Z",
     "iopub.status.busy": "2023-10-20T17:57:31.911678Z",
     "iopub.status.idle": "2023-10-20T22:47:05.280503Z",
     "shell.execute_reply": "2023-10-20T22:47:05.278625Z"
    },
    "papermill": {
     "duration": 17373.380411,
     "end_time": "2023-10-20T22:47:05.286705",
     "exception": false,
     "start_time": "2023-10-20T17:57:31.906294",
     "status": "completed"
    },
    "tags": []
   },
   "outputs": [
    {
     "name": "stdout",
     "output_type": "stream",
     "text": [
      "Cross-Validation Scores: [-0.02371579 -0.02268796 -0.02645849 -0.02756956 -0.02651919]\n",
      "Mean Score: -0.02539019914585037\n"
     ]
    }
   ],
   "source": [
    "# Define the target variable and features for your model\n",
    "X = data_encoded_normalized\n",
    "y = data['Predicted Safety Score']\n",
    "\n",
    "# Create your Random Forest Regressor model\n",
    "model = RandomForestRegressor()\n",
    "\n",
    "# Perform cross-validation (5-fold cross-validation)\n",
    "scores = cross_val_score(model, X, y, cv=5)\n",
    "\n",
    "# Print the cross-validation scores\n",
    "print(\"Cross-Validation Scores:\", scores)\n",
    "print(\"Mean Score:\", scores.mean())"
   ]
  }
 ],
 "metadata": {
  "kernelspec": {
   "display_name": "Python 3",
   "language": "python",
   "name": "python3"
  },
  "language_info": {
   "codemirror_mode": {
    "name": "ipython",
    "version": 3
   },
   "file_extension": ".py",
   "mimetype": "text/x-python",
   "name": "python",
   "nbconvert_exporter": "python",
   "pygments_lexer": "ipython3",
   "version": "3.10.12"
  },
  "papermill": {
   "default_parameters": {},
   "duration": 17574.810512,
   "end_time": "2023-10-20T22:47:06.239867",
   "environment_variables": {},
   "exception": null,
   "input_path": "__notebook__.ipynb",
   "output_path": "__notebook__.ipynb",
   "parameters": {},
   "start_time": "2023-10-20T17:54:11.429355",
   "version": "2.4.0"
  }
 },
 "nbformat": 4,
 "nbformat_minor": 5
}
