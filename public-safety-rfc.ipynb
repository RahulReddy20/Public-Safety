{
 "cells": [
  {
   "cell_type": "code",
   "execution_count": 1,
   "id": "ca88aed7",
   "metadata": {
    "_cell_guid": "b1076dfc-b9ad-4769-8c92-a6c4dae69d19",
    "_uuid": "8f2839f25d086af736a60e9eeb907d3b93b6e0e5",
    "execution": {
     "iopub.execute_input": "2023-10-23T19:54:43.225020Z",
     "iopub.status.busy": "2023-10-23T19:54:43.224681Z",
     "iopub.status.idle": "2023-10-23T19:54:43.927752Z",
     "shell.execute_reply": "2023-10-23T19:54:43.926867Z"
    },
    "papermill": {
     "duration": 0.713855,
     "end_time": "2023-10-23T19:54:43.930228",
     "exception": false,
     "start_time": "2023-10-23T19:54:43.216373",
     "status": "completed"
    },
    "tags": []
   },
   "outputs": [
    {
     "name": "stdout",
     "output_type": "stream",
     "text": [
      "/kaggle/input/preprocessed-dallas-public-safety/filtered_data_3.csv\n"
     ]
    }
   ],
   "source": [
    "# This Python 3 environment comes with many helpful analytics libraries installed\n",
    "# It is defined by the kaggle/python Docker image: https://github.com/kaggle/docker-python\n",
    "# For example, here's several helpful packages to load\n",
    "\n",
    "import numpy as np # linear algebra\n",
    "import pandas as pd # data processing, CSV file I/O (e.g. pd.read_csv)\n",
    "\n",
    "# Input data files are available in the read-only \"../input/\" directory\n",
    "# For example, running this (by clicking run or pressing Shift+Enter) will list all files under the input directory\n",
    "\n",
    "import os\n",
    "for dirname, _, filenames in os.walk('/kaggle/input'):\n",
    "    for filename in filenames:\n",
    "        print(os.path.join(dirname, filename))\n",
    "\n",
    "# You can write up to 20GB to the current directory (/kaggle/working/) that gets preserved as output when you create a version using \"Save & Run All\" \n",
    "# You can also write temporary files to /kaggle/temp/, but they won't be saved outside of the current session"
   ]
  },
  {
   "cell_type": "code",
   "execution_count": 2,
   "id": "c83e2715",
   "metadata": {
    "execution": {
     "iopub.execute_input": "2023-10-23T19:54:43.944564Z",
     "iopub.status.busy": "2023-10-23T19:54:43.944186Z",
     "iopub.status.idle": "2023-10-23T19:54:45.154108Z",
     "shell.execute_reply": "2023-10-23T19:54:45.153344Z"
    },
    "papermill": {
     "duration": 1.219589,
     "end_time": "2023-10-23T19:54:45.156485",
     "exception": false,
     "start_time": "2023-10-23T19:54:43.936896",
     "status": "completed"
    },
    "tags": []
   },
   "outputs": [
    {
     "name": "stderr",
     "output_type": "stream",
     "text": [
      "/opt/conda/lib/python3.10/site-packages/scipy/__init__.py:146: UserWarning: A NumPy version >=1.16.5 and <1.23.0 is required for this version of SciPy (detected version 1.23.5\n",
      "  warnings.warn(f\"A NumPy version >={np_minversion} and <{np_maxversion}\"\n"
     ]
    }
   ],
   "source": [
    "import pandas as pd\n",
    "from sklearn.ensemble import RandomForestClassifier\n",
    "from sklearn.model_selection import train_test_split\n",
    "from sklearn.metrics import accuracy_score\n",
    "from sklearn.preprocessing import LabelEncoder\n"
   ]
  },
  {
   "cell_type": "code",
   "execution_count": 3,
   "id": "f77aab21",
   "metadata": {
    "execution": {
     "iopub.execute_input": "2023-10-23T19:54:45.170951Z",
     "iopub.status.busy": "2023-10-23T19:54:45.170645Z",
     "iopub.status.idle": "2023-10-23T19:54:47.923585Z",
     "shell.execute_reply": "2023-10-23T19:54:47.922710Z"
    },
    "papermill": {
     "duration": 2.762851,
     "end_time": "2023-10-23T19:54:47.926083",
     "exception": false,
     "start_time": "2023-10-23T19:54:45.163232",
     "status": "completed"
    },
    "tags": []
   },
   "outputs": [],
   "source": [
    "data = pd.read_csv('/kaggle/input/preprocessed-dallas-public-safety/filtered_data_3.csv')"
   ]
  },
  {
   "cell_type": "code",
   "execution_count": 4,
   "id": "91482a52",
   "metadata": {
    "execution": {
     "iopub.execute_input": "2023-10-23T19:54:47.940757Z",
     "iopub.status.busy": "2023-10-23T19:54:47.940455Z",
     "iopub.status.idle": "2023-10-23T19:54:48.513337Z",
     "shell.execute_reply": "2023-10-23T19:54:48.512422Z"
    },
    "papermill": {
     "duration": 0.582616,
     "end_time": "2023-10-23T19:54:48.515624",
     "exception": false,
     "start_time": "2023-10-23T19:54:47.933008",
     "status": "completed"
    },
    "tags": []
   },
   "outputs": [],
   "source": [
    "data = data.dropna()"
   ]
  },
  {
   "cell_type": "code",
   "execution_count": 5,
   "id": "aab7562f",
   "metadata": {
    "execution": {
     "iopub.execute_input": "2023-10-23T19:54:48.531063Z",
     "iopub.status.busy": "2023-10-23T19:54:48.530746Z",
     "iopub.status.idle": "2023-10-23T19:54:48.549970Z",
     "shell.execute_reply": "2023-10-23T19:54:48.549196Z"
    },
    "papermill": {
     "duration": 0.029437,
     "end_time": "2023-10-23T19:54:48.552042",
     "exception": false,
     "start_time": "2023-10-23T19:54:48.522605",
     "status": "completed"
    },
    "tags": []
   },
   "outputs": [],
   "source": [
    "unique_zip_codes = data['Zip Code'].unique()"
   ]
  },
  {
   "cell_type": "code",
   "execution_count": 6,
   "id": "3a4f9bb7",
   "metadata": {
    "execution": {
     "iopub.execute_input": "2023-10-23T19:54:48.567002Z",
     "iopub.status.busy": "2023-10-23T19:54:48.566336Z",
     "iopub.status.idle": "2023-10-23T19:54:49.896960Z",
     "shell.execute_reply": "2023-10-23T19:54:49.896202Z"
    },
    "papermill": {
     "duration": 1.340742,
     "end_time": "2023-10-23T19:54:49.899354",
     "exception": false,
     "start_time": "2023-10-23T19:54:48.558612",
     "status": "completed"
    },
    "tags": []
   },
   "outputs": [],
   "source": [
    "# Define a function to round the time\n",
    "def round_time(time_str):\n",
    "    hours, minutes = map(int, time_str.split(':'))\n",
    "    if minutes > 30:\n",
    "        if hours == 23:\n",
    "            return 0\n",
    "        else:\n",
    "            return hours + 1\n",
    "    else:\n",
    "        return hours\n",
    "\n",
    "# Apply the round_time function to create the \"Time Integer\" column\n",
    "data['Time Integer'] = data['Time1 of Occurrence'].apply(round_time)"
   ]
  },
  {
   "cell_type": "code",
   "execution_count": 7,
   "id": "013ec2c5",
   "metadata": {
    "execution": {
     "iopub.execute_input": "2023-10-23T19:54:49.914266Z",
     "iopub.status.busy": "2023-10-23T19:54:49.913952Z",
     "iopub.status.idle": "2023-10-23T19:54:51.496522Z",
     "shell.execute_reply": "2023-10-23T19:54:51.495737Z"
    },
    "papermill": {
     "duration": 1.592354,
     "end_time": "2023-10-23T19:54:51.498760",
     "exception": false,
     "start_time": "2023-10-23T19:54:49.906406",
     "status": "completed"
    },
    "tags": []
   },
   "outputs": [],
   "source": [
    "# Perform label encoding for categorical columns (Day of the Week and Time Bin)\n",
    "label_encoder = LabelEncoder()\n",
    "data['Day1 of the Week'] = label_encoder.fit_transform(data['Day1 of the Week'])\n",
    "data['Time Integer'] = label_encoder.fit_transform(data['Time Integer'])# Perform one-hot encoding for the Zip Code column\n",
    "data = pd.get_dummies(data, columns=['Zip Code'], prefix='Zip')"
   ]
  },
  {
   "cell_type": "code",
   "execution_count": 8,
   "id": "dbd9c4ae",
   "metadata": {
    "execution": {
     "iopub.execute_input": "2023-10-23T19:54:51.513997Z",
     "iopub.status.busy": "2023-10-23T19:54:51.513686Z",
     "iopub.status.idle": "2023-10-23T19:54:51.522283Z",
     "shell.execute_reply": "2023-10-23T19:54:51.521471Z"
    },
    "papermill": {
     "duration": 0.018359,
     "end_time": "2023-10-23T19:54:51.524238",
     "exception": false,
     "start_time": "2023-10-23T19:54:51.505879",
     "status": "completed"
    },
    "tags": []
   },
   "outputs": [
    {
     "data": {
      "text/plain": [
       "0          20\n",
       "1          12\n",
       "2          12\n",
       "3           2\n",
       "4          17\n",
       "           ..\n",
       "1048570    19\n",
       "1048571    18\n",
       "1048572     7\n",
       "1048573    10\n",
       "1048574     6\n",
       "Name: Time Integer, Length: 1044139, dtype: int64"
      ]
     },
     "execution_count": 8,
     "metadata": {},
     "output_type": "execute_result"
    }
   ],
   "source": [
    "data['Time Integer']"
   ]
  },
  {
   "cell_type": "code",
   "execution_count": 9,
   "id": "b1e1c89e",
   "metadata": {
    "execution": {
     "iopub.execute_input": "2023-10-23T19:54:51.539245Z",
     "iopub.status.busy": "2023-10-23T19:54:51.538941Z",
     "iopub.status.idle": "2023-10-23T19:54:51.545104Z",
     "shell.execute_reply": "2023-10-23T19:54:51.544167Z"
    },
    "papermill": {
     "duration": 0.015817,
     "end_time": "2023-10-23T19:54:51.547017",
     "exception": false,
     "start_time": "2023-10-23T19:54:51.531200",
     "status": "completed"
    },
    "tags": []
   },
   "outputs": [],
   "source": [
    "# Define the features and target variable\n",
    "features = ['Day1 of the Week', 'Time Integer'] + [col for col in data.columns if col.startswith('Zip_')]\n",
    "target = 'Safety Score'\n",
    "\n",
    "# Define the ranges and corresponding labels for 'Incident_Score'\n",
    "score_ranges = [(0, 10), (11, 20), (21, 30), (31, 40), (41, 50), (51, 60), (61, 70), (71, 80), (81, 90), (91, 100)]\n",
    "score_labels = ['Very Safe', 'Safe', 'Fairly Safe', 'Somewhat Safe', 'Neutral', 'Somewhat Unsafe', 'Fairly Unsafe', 'Unsafe', 'Very Unsafe', 'Extremely Unsafe']\n"
   ]
  },
  {
   "cell_type": "code",
   "execution_count": 10,
   "id": "afd4107b",
   "metadata": {
    "execution": {
     "iopub.execute_input": "2023-10-23T19:54:51.562253Z",
     "iopub.status.busy": "2023-10-23T19:54:51.561963Z",
     "iopub.status.idle": "2023-10-23T19:54:51.566685Z",
     "shell.execute_reply": "2023-10-23T19:54:51.565880Z"
    },
    "papermill": {
     "duration": 0.014308,
     "end_time": "2023-10-23T19:54:51.568484",
     "exception": false,
     "start_time": "2023-10-23T19:54:51.554176",
     "status": "completed"
    },
    "tags": []
   },
   "outputs": [],
   "source": [
    "# Create a function to assign the label based on the score\n",
    "def assign_safety_score(score):\n",
    "    for i, (start, end) in enumerate(score_ranges):\n",
    "        if start <= score < end:\n",
    "            return score_labels[i]\n",
    "    return None  # Handle values outside the defined ranges\n"
   ]
  },
  {
   "cell_type": "code",
   "execution_count": 11,
   "id": "f7e3aa0c",
   "metadata": {
    "execution": {
     "iopub.execute_input": "2023-10-23T19:54:51.583896Z",
     "iopub.status.busy": "2023-10-23T19:54:51.583195Z",
     "iopub.status.idle": "2023-10-23T19:54:53.951462Z",
     "shell.execute_reply": "2023-10-23T19:54:53.950464Z"
    },
    "papermill": {
     "duration": 2.378441,
     "end_time": "2023-10-23T19:54:53.953836",
     "exception": false,
     "start_time": "2023-10-23T19:54:51.575395",
     "status": "completed"
    },
    "tags": []
   },
   "outputs": [],
   "source": [
    "# Apply the function to create the 'Safety Score' column\n",
    "data['Safety Score'] = data['Incident_Score'].apply(assign_safety_score)"
   ]
  },
  {
   "cell_type": "code",
   "execution_count": 12,
   "id": "ebcb0eea",
   "metadata": {
    "execution": {
     "iopub.execute_input": "2023-10-23T19:54:53.970334Z",
     "iopub.status.busy": "2023-10-23T19:54:53.969612Z",
     "iopub.status.idle": "2023-10-23T19:54:54.174835Z",
     "shell.execute_reply": "2023-10-23T19:54:54.173857Z"
    },
    "papermill": {
     "duration": 0.215952,
     "end_time": "2023-10-23T19:54:54.177303",
     "exception": false,
     "start_time": "2023-10-23T19:54:53.961351",
     "status": "completed"
    },
    "tags": []
   },
   "outputs": [],
   "source": [
    "# Drop rows where 'Safety Score' is None (outside defined ranges)\n",
    "data.dropna(subset=['Safety Score'], inplace=True)"
   ]
  },
  {
   "cell_type": "code",
   "execution_count": 13,
   "id": "2aeeb1a7",
   "metadata": {
    "execution": {
     "iopub.execute_input": "2023-10-23T19:54:54.194150Z",
     "iopub.status.busy": "2023-10-23T19:54:54.193497Z",
     "iopub.status.idle": "2023-10-23T19:54:54.444575Z",
     "shell.execute_reply": "2023-10-23T19:54:54.443639Z"
    },
    "papermill": {
     "duration": 0.261931,
     "end_time": "2023-10-23T19:54:54.446909",
     "exception": false,
     "start_time": "2023-10-23T19:54:54.184978",
     "status": "completed"
    },
    "tags": []
   },
   "outputs": [],
   "source": [
    "# Split the dataset into training and testing sets\n",
    "X = data[features]\n",
    "y = data[target]\n",
    "X_train, X_test, y_train, y_test = train_test_split(X, y, test_size=0.2, random_state=42)\n"
   ]
  },
  {
   "cell_type": "code",
   "execution_count": 14,
   "id": "d33735e7",
   "metadata": {
    "execution": {
     "iopub.execute_input": "2023-10-23T19:54:54.463222Z",
     "iopub.status.busy": "2023-10-23T19:54:54.462673Z",
     "iopub.status.idle": "2023-10-23T19:54:54.512660Z",
     "shell.execute_reply": "2023-10-23T19:54:54.511781Z"
    },
    "papermill": {
     "duration": 0.06034,
     "end_time": "2023-10-23T19:54:54.514827",
     "exception": false,
     "start_time": "2023-10-23T19:54:54.454487",
     "status": "completed"
    },
    "tags": []
   },
   "outputs": [
    {
     "data": {
      "text/html": [
       "<div>\n",
       "<style scoped>\n",
       "    .dataframe tbody tr th:only-of-type {\n",
       "        vertical-align: middle;\n",
       "    }\n",
       "\n",
       "    .dataframe tbody tr th {\n",
       "        vertical-align: top;\n",
       "    }\n",
       "\n",
       "    .dataframe thead th {\n",
       "        text-align: right;\n",
       "    }\n",
       "</style>\n",
       "<table border=\"1\" class=\"dataframe\">\n",
       "  <thead>\n",
       "    <tr style=\"text-align: right;\">\n",
       "      <th></th>\n",
       "      <th>Day1 of the Week</th>\n",
       "      <th>Time Integer</th>\n",
       "      <th>Zip_0.0</th>\n",
       "      <th>Zip_11576.0</th>\n",
       "      <th>Zip_12400.0</th>\n",
       "      <th>Zip_16066.0</th>\n",
       "      <th>Zip_30305.0</th>\n",
       "      <th>Zip_33455.0</th>\n",
       "      <th>Zip_33896.0</th>\n",
       "      <th>Zip_40517.0</th>\n",
       "      <th>...</th>\n",
       "      <th>Zip_78681.0</th>\n",
       "      <th>Zip_79745.0</th>\n",
       "      <th>Zip_80237.0</th>\n",
       "      <th>Zip_89148.0</th>\n",
       "      <th>Zip_90033.0</th>\n",
       "      <th>Zip_91601.0</th>\n",
       "      <th>Zip_91803.0</th>\n",
       "      <th>Zip_95207.0</th>\n",
       "      <th>Zip_97224.0</th>\n",
       "      <th>Zip_98004.0</th>\n",
       "    </tr>\n",
       "  </thead>\n",
       "  <tbody>\n",
       "    <tr>\n",
       "      <th>823362</th>\n",
       "      <td>6</td>\n",
       "      <td>13</td>\n",
       "      <td>False</td>\n",
       "      <td>False</td>\n",
       "      <td>False</td>\n",
       "      <td>False</td>\n",
       "      <td>False</td>\n",
       "      <td>False</td>\n",
       "      <td>False</td>\n",
       "      <td>False</td>\n",
       "      <td>...</td>\n",
       "      <td>False</td>\n",
       "      <td>False</td>\n",
       "      <td>False</td>\n",
       "      <td>False</td>\n",
       "      <td>False</td>\n",
       "      <td>False</td>\n",
       "      <td>False</td>\n",
       "      <td>False</td>\n",
       "      <td>False</td>\n",
       "      <td>False</td>\n",
       "    </tr>\n",
       "    <tr>\n",
       "      <th>278354</th>\n",
       "      <td>5</td>\n",
       "      <td>8</td>\n",
       "      <td>False</td>\n",
       "      <td>False</td>\n",
       "      <td>False</td>\n",
       "      <td>False</td>\n",
       "      <td>False</td>\n",
       "      <td>False</td>\n",
       "      <td>False</td>\n",
       "      <td>False</td>\n",
       "      <td>...</td>\n",
       "      <td>False</td>\n",
       "      <td>False</td>\n",
       "      <td>False</td>\n",
       "      <td>False</td>\n",
       "      <td>False</td>\n",
       "      <td>False</td>\n",
       "      <td>False</td>\n",
       "      <td>False</td>\n",
       "      <td>False</td>\n",
       "      <td>False</td>\n",
       "    </tr>\n",
       "    <tr>\n",
       "      <th>448970</th>\n",
       "      <td>3</td>\n",
       "      <td>0</td>\n",
       "      <td>False</td>\n",
       "      <td>False</td>\n",
       "      <td>False</td>\n",
       "      <td>False</td>\n",
       "      <td>False</td>\n",
       "      <td>False</td>\n",
       "      <td>False</td>\n",
       "      <td>False</td>\n",
       "      <td>...</td>\n",
       "      <td>False</td>\n",
       "      <td>False</td>\n",
       "      <td>False</td>\n",
       "      <td>False</td>\n",
       "      <td>False</td>\n",
       "      <td>False</td>\n",
       "      <td>False</td>\n",
       "      <td>False</td>\n",
       "      <td>False</td>\n",
       "      <td>False</td>\n",
       "    </tr>\n",
       "    <tr>\n",
       "      <th>252167</th>\n",
       "      <td>5</td>\n",
       "      <td>18</td>\n",
       "      <td>False</td>\n",
       "      <td>False</td>\n",
       "      <td>False</td>\n",
       "      <td>False</td>\n",
       "      <td>False</td>\n",
       "      <td>False</td>\n",
       "      <td>False</td>\n",
       "      <td>False</td>\n",
       "      <td>...</td>\n",
       "      <td>False</td>\n",
       "      <td>False</td>\n",
       "      <td>False</td>\n",
       "      <td>False</td>\n",
       "      <td>False</td>\n",
       "      <td>False</td>\n",
       "      <td>False</td>\n",
       "      <td>False</td>\n",
       "      <td>False</td>\n",
       "      <td>False</td>\n",
       "    </tr>\n",
       "    <tr>\n",
       "      <th>141042</th>\n",
       "      <td>3</td>\n",
       "      <td>20</td>\n",
       "      <td>False</td>\n",
       "      <td>False</td>\n",
       "      <td>False</td>\n",
       "      <td>False</td>\n",
       "      <td>False</td>\n",
       "      <td>False</td>\n",
       "      <td>False</td>\n",
       "      <td>False</td>\n",
       "      <td>...</td>\n",
       "      <td>False</td>\n",
       "      <td>False</td>\n",
       "      <td>False</td>\n",
       "      <td>False</td>\n",
       "      <td>False</td>\n",
       "      <td>False</td>\n",
       "      <td>False</td>\n",
       "      <td>False</td>\n",
       "      <td>False</td>\n",
       "      <td>False</td>\n",
       "    </tr>\n",
       "    <tr>\n",
       "      <th>...</th>\n",
       "      <td>...</td>\n",
       "      <td>...</td>\n",
       "      <td>...</td>\n",
       "      <td>...</td>\n",
       "      <td>...</td>\n",
       "      <td>...</td>\n",
       "      <td>...</td>\n",
       "      <td>...</td>\n",
       "      <td>...</td>\n",
       "      <td>...</td>\n",
       "      <td>...</td>\n",
       "      <td>...</td>\n",
       "      <td>...</td>\n",
       "      <td>...</td>\n",
       "      <td>...</td>\n",
       "      <td>...</td>\n",
       "      <td>...</td>\n",
       "      <td>...</td>\n",
       "      <td>...</td>\n",
       "      <td>...</td>\n",
       "      <td>...</td>\n",
       "    </tr>\n",
       "    <tr>\n",
       "      <th>682809</th>\n",
       "      <td>5</td>\n",
       "      <td>12</td>\n",
       "      <td>False</td>\n",
       "      <td>False</td>\n",
       "      <td>False</td>\n",
       "      <td>False</td>\n",
       "      <td>False</td>\n",
       "      <td>False</td>\n",
       "      <td>False</td>\n",
       "      <td>False</td>\n",
       "      <td>...</td>\n",
       "      <td>False</td>\n",
       "      <td>False</td>\n",
       "      <td>False</td>\n",
       "      <td>False</td>\n",
       "      <td>False</td>\n",
       "      <td>False</td>\n",
       "      <td>False</td>\n",
       "      <td>False</td>\n",
       "      <td>False</td>\n",
       "      <td>False</td>\n",
       "    </tr>\n",
       "    <tr>\n",
       "      <th>1031324</th>\n",
       "      <td>3</td>\n",
       "      <td>15</td>\n",
       "      <td>False</td>\n",
       "      <td>False</td>\n",
       "      <td>False</td>\n",
       "      <td>False</td>\n",
       "      <td>False</td>\n",
       "      <td>False</td>\n",
       "      <td>False</td>\n",
       "      <td>False</td>\n",
       "      <td>...</td>\n",
       "      <td>False</td>\n",
       "      <td>False</td>\n",
       "      <td>False</td>\n",
       "      <td>False</td>\n",
       "      <td>False</td>\n",
       "      <td>False</td>\n",
       "      <td>False</td>\n",
       "      <td>False</td>\n",
       "      <td>False</td>\n",
       "      <td>False</td>\n",
       "    </tr>\n",
       "    <tr>\n",
       "      <th>323019</th>\n",
       "      <td>0</td>\n",
       "      <td>12</td>\n",
       "      <td>False</td>\n",
       "      <td>False</td>\n",
       "      <td>False</td>\n",
       "      <td>False</td>\n",
       "      <td>False</td>\n",
       "      <td>False</td>\n",
       "      <td>False</td>\n",
       "      <td>False</td>\n",
       "      <td>...</td>\n",
       "      <td>False</td>\n",
       "      <td>False</td>\n",
       "      <td>False</td>\n",
       "      <td>False</td>\n",
       "      <td>False</td>\n",
       "      <td>False</td>\n",
       "      <td>False</td>\n",
       "      <td>False</td>\n",
       "      <td>False</td>\n",
       "      <td>False</td>\n",
       "    </tr>\n",
       "    <tr>\n",
       "      <th>355304</th>\n",
       "      <td>0</td>\n",
       "      <td>2</td>\n",
       "      <td>False</td>\n",
       "      <td>False</td>\n",
       "      <td>False</td>\n",
       "      <td>False</td>\n",
       "      <td>False</td>\n",
       "      <td>False</td>\n",
       "      <td>False</td>\n",
       "      <td>False</td>\n",
       "      <td>...</td>\n",
       "      <td>False</td>\n",
       "      <td>False</td>\n",
       "      <td>False</td>\n",
       "      <td>False</td>\n",
       "      <td>False</td>\n",
       "      <td>False</td>\n",
       "      <td>False</td>\n",
       "      <td>False</td>\n",
       "      <td>False</td>\n",
       "      <td>False</td>\n",
       "    </tr>\n",
       "    <tr>\n",
       "      <th>296078</th>\n",
       "      <td>4</td>\n",
       "      <td>22</td>\n",
       "      <td>False</td>\n",
       "      <td>False</td>\n",
       "      <td>False</td>\n",
       "      <td>False</td>\n",
       "      <td>False</td>\n",
       "      <td>False</td>\n",
       "      <td>False</td>\n",
       "      <td>False</td>\n",
       "      <td>...</td>\n",
       "      <td>False</td>\n",
       "      <td>False</td>\n",
       "      <td>False</td>\n",
       "      <td>False</td>\n",
       "      <td>False</td>\n",
       "      <td>False</td>\n",
       "      <td>False</td>\n",
       "      <td>False</td>\n",
       "      <td>False</td>\n",
       "      <td>False</td>\n",
       "    </tr>\n",
       "  </tbody>\n",
       "</table>\n",
       "<p>296860 rows × 205 columns</p>\n",
       "</div>"
      ],
      "text/plain": [
       "         Day1 of the Week  Time Integer  Zip_0.0  Zip_11576.0  Zip_12400.0  \\\n",
       "823362                  6            13    False        False        False   \n",
       "278354                  5             8    False        False        False   \n",
       "448970                  3             0    False        False        False   \n",
       "252167                  5            18    False        False        False   \n",
       "141042                  3            20    False        False        False   \n",
       "...                   ...           ...      ...          ...          ...   \n",
       "682809                  5            12    False        False        False   \n",
       "1031324                 3            15    False        False        False   \n",
       "323019                  0            12    False        False        False   \n",
       "355304                  0             2    False        False        False   \n",
       "296078                  4            22    False        False        False   \n",
       "\n",
       "         Zip_16066.0  Zip_30305.0  Zip_33455.0  Zip_33896.0  Zip_40517.0  ...  \\\n",
       "823362         False        False        False        False        False  ...   \n",
       "278354         False        False        False        False        False  ...   \n",
       "448970         False        False        False        False        False  ...   \n",
       "252167         False        False        False        False        False  ...   \n",
       "141042         False        False        False        False        False  ...   \n",
       "...              ...          ...          ...          ...          ...  ...   \n",
       "682809         False        False        False        False        False  ...   \n",
       "1031324        False        False        False        False        False  ...   \n",
       "323019         False        False        False        False        False  ...   \n",
       "355304         False        False        False        False        False  ...   \n",
       "296078         False        False        False        False        False  ...   \n",
       "\n",
       "         Zip_78681.0  Zip_79745.0  Zip_80237.0  Zip_89148.0  Zip_90033.0  \\\n",
       "823362         False        False        False        False        False   \n",
       "278354         False        False        False        False        False   \n",
       "448970         False        False        False        False        False   \n",
       "252167         False        False        False        False        False   \n",
       "141042         False        False        False        False        False   \n",
       "...              ...          ...          ...          ...          ...   \n",
       "682809         False        False        False        False        False   \n",
       "1031324        False        False        False        False        False   \n",
       "323019         False        False        False        False        False   \n",
       "355304         False        False        False        False        False   \n",
       "296078         False        False        False        False        False   \n",
       "\n",
       "         Zip_91601.0  Zip_91803.0  Zip_95207.0  Zip_97224.0  Zip_98004.0  \n",
       "823362         False        False        False        False        False  \n",
       "278354         False        False        False        False        False  \n",
       "448970         False        False        False        False        False  \n",
       "252167         False        False        False        False        False  \n",
       "141042         False        False        False        False        False  \n",
       "...              ...          ...          ...          ...          ...  \n",
       "682809         False        False        False        False        False  \n",
       "1031324        False        False        False        False        False  \n",
       "323019         False        False        False        False        False  \n",
       "355304         False        False        False        False        False  \n",
       "296078         False        False        False        False        False  \n",
       "\n",
       "[296860 rows x 205 columns]"
      ]
     },
     "execution_count": 14,
     "metadata": {},
     "output_type": "execute_result"
    }
   ],
   "source": [
    "X_train"
   ]
  },
  {
   "cell_type": "code",
   "execution_count": 15,
   "id": "0aca5b2c",
   "metadata": {
    "execution": {
     "iopub.execute_input": "2023-10-23T19:54:54.532122Z",
     "iopub.status.busy": "2023-10-23T19:54:54.531832Z",
     "iopub.status.idle": "2023-10-23T19:54:54.535686Z",
     "shell.execute_reply": "2023-10-23T19:54:54.534866Z"
    },
    "papermill": {
     "duration": 0.014823,
     "end_time": "2023-10-23T19:54:54.537525",
     "exception": false,
     "start_time": "2023-10-23T19:54:54.522702",
     "status": "completed"
    },
    "tags": []
   },
   "outputs": [],
   "source": [
    "# # Create and train a Random Forest Classifier model\n",
    "# model = RandomForestClassifier(n_estimators=100, random_state=42)\n",
    "# model.fit(X_train, y_train)"
   ]
  },
  {
   "cell_type": "code",
   "execution_count": 16,
   "id": "4704989e",
   "metadata": {
    "execution": {
     "iopub.execute_input": "2023-10-23T19:54:54.554550Z",
     "iopub.status.busy": "2023-10-23T19:54:54.554233Z",
     "iopub.status.idle": "2023-10-23T19:54:54.558391Z",
     "shell.execute_reply": "2023-10-23T19:54:54.557569Z"
    },
    "papermill": {
     "duration": 0.014763,
     "end_time": "2023-10-23T19:54:54.560285",
     "exception": false,
     "start_time": "2023-10-23T19:54:54.545522",
     "status": "completed"
    },
    "tags": []
   },
   "outputs": [],
   "source": [
    "from sklearn.ensemble import GradientBoostingClassifier"
   ]
  },
  {
   "cell_type": "code",
   "execution_count": 17,
   "id": "faf392a9",
   "metadata": {
    "execution": {
     "iopub.execute_input": "2023-10-23T19:54:54.577318Z",
     "iopub.status.busy": "2023-10-23T19:54:54.577037Z",
     "iopub.status.idle": "2023-10-23T20:04:51.659937Z",
     "shell.execute_reply": "2023-10-23T20:04:51.658950Z"
    },
    "papermill": {
     "duration": 597.101209,
     "end_time": "2023-10-23T20:04:51.669518",
     "exception": false,
     "start_time": "2023-10-23T19:54:54.568309",
     "status": "completed"
    },
    "tags": []
   },
   "outputs": [
    {
     "data": {
      "text/html": [
       "<style>#sk-container-id-1 {color: black;background-color: white;}#sk-container-id-1 pre{padding: 0;}#sk-container-id-1 div.sk-toggleable {background-color: white;}#sk-container-id-1 label.sk-toggleable__label {cursor: pointer;display: block;width: 100%;margin-bottom: 0;padding: 0.3em;box-sizing: border-box;text-align: center;}#sk-container-id-1 label.sk-toggleable__label-arrow:before {content: \"▸\";float: left;margin-right: 0.25em;color: #696969;}#sk-container-id-1 label.sk-toggleable__label-arrow:hover:before {color: black;}#sk-container-id-1 div.sk-estimator:hover label.sk-toggleable__label-arrow:before {color: black;}#sk-container-id-1 div.sk-toggleable__content {max-height: 0;max-width: 0;overflow: hidden;text-align: left;background-color: #f0f8ff;}#sk-container-id-1 div.sk-toggleable__content pre {margin: 0.2em;color: black;border-radius: 0.25em;background-color: #f0f8ff;}#sk-container-id-1 input.sk-toggleable__control:checked~div.sk-toggleable__content {max-height: 200px;max-width: 100%;overflow: auto;}#sk-container-id-1 input.sk-toggleable__control:checked~label.sk-toggleable__label-arrow:before {content: \"▾\";}#sk-container-id-1 div.sk-estimator input.sk-toggleable__control:checked~label.sk-toggleable__label {background-color: #d4ebff;}#sk-container-id-1 div.sk-label input.sk-toggleable__control:checked~label.sk-toggleable__label {background-color: #d4ebff;}#sk-container-id-1 input.sk-hidden--visually {border: 0;clip: rect(1px 1px 1px 1px);clip: rect(1px, 1px, 1px, 1px);height: 1px;margin: -1px;overflow: hidden;padding: 0;position: absolute;width: 1px;}#sk-container-id-1 div.sk-estimator {font-family: monospace;background-color: #f0f8ff;border: 1px dotted black;border-radius: 0.25em;box-sizing: border-box;margin-bottom: 0.5em;}#sk-container-id-1 div.sk-estimator:hover {background-color: #d4ebff;}#sk-container-id-1 div.sk-parallel-item::after {content: \"\";width: 100%;border-bottom: 1px solid gray;flex-grow: 1;}#sk-container-id-1 div.sk-label:hover label.sk-toggleable__label {background-color: #d4ebff;}#sk-container-id-1 div.sk-serial::before {content: \"\";position: absolute;border-left: 1px solid gray;box-sizing: border-box;top: 0;bottom: 0;left: 50%;z-index: 0;}#sk-container-id-1 div.sk-serial {display: flex;flex-direction: column;align-items: center;background-color: white;padding-right: 0.2em;padding-left: 0.2em;position: relative;}#sk-container-id-1 div.sk-item {position: relative;z-index: 1;}#sk-container-id-1 div.sk-parallel {display: flex;align-items: stretch;justify-content: center;background-color: white;position: relative;}#sk-container-id-1 div.sk-item::before, #sk-container-id-1 div.sk-parallel-item::before {content: \"\";position: absolute;border-left: 1px solid gray;box-sizing: border-box;top: 0;bottom: 0;left: 50%;z-index: -1;}#sk-container-id-1 div.sk-parallel-item {display: flex;flex-direction: column;z-index: 1;position: relative;background-color: white;}#sk-container-id-1 div.sk-parallel-item:first-child::after {align-self: flex-end;width: 50%;}#sk-container-id-1 div.sk-parallel-item:last-child::after {align-self: flex-start;width: 50%;}#sk-container-id-1 div.sk-parallel-item:only-child::after {width: 0;}#sk-container-id-1 div.sk-dashed-wrapped {border: 1px dashed gray;margin: 0 0.4em 0.5em 0.4em;box-sizing: border-box;padding-bottom: 0.4em;background-color: white;}#sk-container-id-1 div.sk-label label {font-family: monospace;font-weight: bold;display: inline-block;line-height: 1.2em;}#sk-container-id-1 div.sk-label-container {text-align: center;}#sk-container-id-1 div.sk-container {/* jupyter's `normalize.less` sets `[hidden] { display: none; }` but bootstrap.min.css set `[hidden] { display: none !important; }` so we also need the `!important` here to be able to override the default hidden behavior on the sphinx rendered scikit-learn.org. See: https://github.com/scikit-learn/scikit-learn/issues/21755 */display: inline-block !important;position: relative;}#sk-container-id-1 div.sk-text-repr-fallback {display: none;}</style><div id=\"sk-container-id-1\" class=\"sk-top-container\"><div class=\"sk-text-repr-fallback\"><pre>GradientBoostingClassifier(random_state=42)</pre><b>In a Jupyter environment, please rerun this cell to show the HTML representation or trust the notebook. <br />On GitHub, the HTML representation is unable to render, please try loading this page with nbviewer.org.</b></div><div class=\"sk-container\" hidden><div class=\"sk-item\"><div class=\"sk-estimator sk-toggleable\"><input class=\"sk-toggleable__control sk-hidden--visually\" id=\"sk-estimator-id-1\" type=\"checkbox\" checked><label for=\"sk-estimator-id-1\" class=\"sk-toggleable__label sk-toggleable__label-arrow\">GradientBoostingClassifier</label><div class=\"sk-toggleable__content\"><pre>GradientBoostingClassifier(random_state=42)</pre></div></div></div></div></div>"
      ],
      "text/plain": [
       "GradientBoostingClassifier(random_state=42)"
      ]
     },
     "execution_count": 17,
     "metadata": {},
     "output_type": "execute_result"
    }
   ],
   "source": [
    "# Initialize the Gradient Boosting Classifier\n",
    "gb_classifier = GradientBoostingClassifier(n_estimators=100, random_state=42)  # You can adjust the hyperparameters as needed\n",
    "gb_classifier.fit(X_train, y_train)"
   ]
  },
  {
   "cell_type": "code",
   "execution_count": 18,
   "id": "a6b25aa7",
   "metadata": {
    "execution": {
     "iopub.execute_input": "2023-10-23T20:04:51.687139Z",
     "iopub.status.busy": "2023-10-23T20:04:51.686842Z",
     "iopub.status.idle": "2023-10-23T20:04:51.717582Z",
     "shell.execute_reply": "2023-10-23T20:04:51.716871Z"
    },
    "papermill": {
     "duration": 0.04168,
     "end_time": "2023-10-23T20:04:51.719449",
     "exception": false,
     "start_time": "2023-10-23T20:04:51.677769",
     "status": "completed"
    },
    "tags": []
   },
   "outputs": [],
   "source": [
    "import pickle\n",
    "filename = 'rfc_model.pkl'\n",
    "pickle.dump(gb_classifier, open(filename, 'wb'))"
   ]
  },
  {
   "cell_type": "code",
   "execution_count": 19,
   "id": "e341244d",
   "metadata": {
    "execution": {
     "iopub.execute_input": "2023-10-23T20:04:51.736788Z",
     "iopub.status.busy": "2023-10-23T20:04:51.736514Z",
     "iopub.status.idle": "2023-10-23T20:04:53.357668Z",
     "shell.execute_reply": "2023-10-23T20:04:53.356881Z"
    },
    "papermill": {
     "duration": 1.632463,
     "end_time": "2023-10-23T20:04:53.360022",
     "exception": false,
     "start_time": "2023-10-23T20:04:51.727559",
     "status": "completed"
    },
    "tags": []
   },
   "outputs": [],
   "source": [
    "# Make predictions on the test set\n",
    "y_pred = gb_classifier.predict(X_test)"
   ]
  },
  {
   "cell_type": "code",
   "execution_count": 20,
   "id": "da043f04",
   "metadata": {
    "execution": {
     "iopub.execute_input": "2023-10-23T20:04:53.377951Z",
     "iopub.status.busy": "2023-10-23T20:04:53.377638Z",
     "iopub.status.idle": "2023-10-23T20:04:53.516697Z",
     "shell.execute_reply": "2023-10-23T20:04:53.515879Z"
    },
    "papermill": {
     "duration": 0.150801,
     "end_time": "2023-10-23T20:04:53.519275",
     "exception": false,
     "start_time": "2023-10-23T20:04:53.368474",
     "status": "completed"
    },
    "tags": []
   },
   "outputs": [
    {
     "name": "stdout",
     "output_type": "stream",
     "text": [
      "Accuracy: 0.3409372642017894\n"
     ]
    }
   ],
   "source": [
    "# Evaluate the model using accuracy score\n",
    "accuracy = accuracy_score(y_test, y_pred)\n",
    "print(f\"Accuracy: {accuracy}\")"
   ]
  },
  {
   "cell_type": "code",
   "execution_count": null,
   "id": "eb00604b",
   "metadata": {
    "papermill": {
     "duration": 0.008104,
     "end_time": "2023-10-23T20:04:53.535731",
     "exception": false,
     "start_time": "2023-10-23T20:04:53.527627",
     "status": "completed"
    },
    "tags": []
   },
   "outputs": [],
   "source": []
  },
  {
   "cell_type": "code",
   "execution_count": 21,
   "id": "5aa80d7f",
   "metadata": {
    "execution": {
     "iopub.execute_input": "2023-10-23T20:04:53.554005Z",
     "iopub.status.busy": "2023-10-23T20:04:53.553056Z",
     "iopub.status.idle": "2023-10-23T20:04:53.559449Z",
     "shell.execute_reply": "2023-10-23T20:04:53.558695Z"
    },
    "papermill": {
     "duration": 0.017686,
     "end_time": "2023-10-23T20:04:53.561539",
     "exception": false,
     "start_time": "2023-10-23T20:04:53.543853",
     "status": "completed"
    },
    "tags": []
   },
   "outputs": [],
   "source": [
    "# Assuming you have a new data point in the form of a dictionary\n",
    "new_data = {\n",
    "    'Day1 of the Week': 'Tue',   # Example value\n",
    "    'Time Integer': 'Afternoon',        # Example value\n",
    "}\n",
    "\n",
    "\n",
    "# Convert the new data into a DataFrame with the same structure as your training data\n",
    "new_data_df = pd.DataFrame([new_data])\n",
    "\n",
    "# Perform label encoding for categorical columns (Day of the Week and Time Bin)\n",
    "new_data_df['Day1 of the Week'] = 1\n",
    "new_data_df['Time Integer'] = 20\n",
    "\n",
    "# Perform one-hot encoding for the Zip Code column\n",
    "# new_data_df = pd.get_dummies(new_data_df, columns=['Zip Code'], prefix='Zip')\n",
    "\n"
   ]
  },
  {
   "cell_type": "code",
   "execution_count": 22,
   "id": "dc775ae5",
   "metadata": {
    "execution": {
     "iopub.execute_input": "2023-10-23T20:04:53.579305Z",
     "iopub.status.busy": "2023-10-23T20:04:53.579017Z",
     "iopub.status.idle": "2023-10-23T20:04:53.586697Z",
     "shell.execute_reply": "2023-10-23T20:04:53.585875Z"
    },
    "papermill": {
     "duration": 0.018604,
     "end_time": "2023-10-23T20:04:53.588503",
     "exception": false,
     "start_time": "2023-10-23T20:04:53.569899",
     "status": "completed"
    },
    "tags": []
   },
   "outputs": [
    {
     "data": {
      "text/html": [
       "<div>\n",
       "<style scoped>\n",
       "    .dataframe tbody tr th:only-of-type {\n",
       "        vertical-align: middle;\n",
       "    }\n",
       "\n",
       "    .dataframe tbody tr th {\n",
       "        vertical-align: top;\n",
       "    }\n",
       "\n",
       "    .dataframe thead th {\n",
       "        text-align: right;\n",
       "    }\n",
       "</style>\n",
       "<table border=\"1\" class=\"dataframe\">\n",
       "  <thead>\n",
       "    <tr style=\"text-align: right;\">\n",
       "      <th></th>\n",
       "      <th>Day1 of the Week</th>\n",
       "      <th>Time Integer</th>\n",
       "    </tr>\n",
       "  </thead>\n",
       "  <tbody>\n",
       "    <tr>\n",
       "      <th>0</th>\n",
       "      <td>1</td>\n",
       "      <td>20</td>\n",
       "    </tr>\n",
       "  </tbody>\n",
       "</table>\n",
       "</div>"
      ],
      "text/plain": [
       "   Day1 of the Week  Time Integer\n",
       "0                 1            20"
      ]
     },
     "execution_count": 22,
     "metadata": {},
     "output_type": "execute_result"
    }
   ],
   "source": [
    "new_data_df"
   ]
  },
  {
   "cell_type": "code",
   "execution_count": 23,
   "id": "ebb9b7b6",
   "metadata": {
    "execution": {
     "iopub.execute_input": "2023-10-23T20:04:53.606853Z",
     "iopub.status.busy": "2023-10-23T20:04:53.606587Z",
     "iopub.status.idle": "2023-10-23T20:04:53.612048Z",
     "shell.execute_reply": "2023-10-23T20:04:53.611207Z"
    },
    "papermill": {
     "duration": 0.017034,
     "end_time": "2023-10-23T20:04:53.613973",
     "exception": false,
     "start_time": "2023-10-23T20:04:53.596939",
     "status": "completed"
    },
    "tags": []
   },
   "outputs": [],
   "source": [
    "# Initialize a dictionary to hold the one-hot encoded values\n",
    "encoded_values = {}\n",
    "unique_zip_codes.sort()\n",
    "# Create one-hot encoded columns for all unique Zip Codes seen in training data\n",
    "for col in unique_zip_codes:\n",
    "    encoded_values['Zip_' + str(col)] = [True if col == '75231.0' else False]\n"
   ]
  },
  {
   "cell_type": "code",
   "execution_count": 24,
   "id": "02563722",
   "metadata": {
    "execution": {
     "iopub.execute_input": "2023-10-23T20:04:53.632041Z",
     "iopub.status.busy": "2023-10-23T20:04:53.631775Z",
     "iopub.status.idle": "2023-10-23T20:04:53.636139Z",
     "shell.execute_reply": "2023-10-23T20:04:53.635257Z"
    },
    "papermill": {
     "duration": 0.016088,
     "end_time": "2023-10-23T20:04:53.638602",
     "exception": false,
     "start_time": "2023-10-23T20:04:53.622514",
     "status": "completed"
    },
    "tags": []
   },
   "outputs": [
    {
     "name": "stdout",
     "output_type": "stream",
     "text": [
      "{'Zip_0.0': [False], 'Zip_11576.0': [False], 'Zip_12400.0': [False], 'Zip_16066.0': [False], 'Zip_30305.0': [False], 'Zip_33455.0': [False], 'Zip_33896.0': [False], 'Zip_40517.0': [False], 'Zip_48232.0': [False], 'Zip_60612.0': [False], 'Zip_63145.0': [False], 'Zip_66210.0': [False], 'Zip_72220.0': [False], 'Zip_73237.0': [False], 'Zip_74204.0': [False], 'Zip_74243.0': [False], 'Zip_74701.0': [False], 'Zip_75001.0': [False], 'Zip_75006.0': [False], 'Zip_75007.0': [False], 'Zip_75014.0': [False], 'Zip_75016.0': [False], 'Zip_75019.0': [False], 'Zip_75021.0': [False], 'Zip_75023.0': [False], 'Zip_75024.0': [False], 'Zip_75025.0': [False], 'Zip_75026.0': [False], 'Zip_75032.0': [False], 'Zip_75033.0': [False], 'Zip_75034.0': [False], 'Zip_75035.0': [False], 'Zip_75039.0': [False], 'Zip_75040.0': [False], 'Zip_75041.0': [False], 'Zip_75042.0': [False], 'Zip_75043.0': [False], 'Zip_75044.0': [False], 'Zip_75048.0': [False], 'Zip_75050.0': [False], 'Zip_75051.0': [False], 'Zip_75052.0': [False], 'Zip_75056.0': [False], 'Zip_75060.0': [False], 'Zip_75061.0': [False], 'Zip_75062.0': [False], 'Zip_75063.0': [False], 'Zip_75068.0': [False], 'Zip_75071.0': [False], 'Zip_75072.0': [False], 'Zip_75074.0': [False], 'Zip_75075.0': [False], 'Zip_75078.0': [False], 'Zip_75080.0': [False], 'Zip_75081.0': [False], 'Zip_75082.0': [False], 'Zip_75087.0': [False], 'Zip_75088.0': [False], 'Zip_75089.0': [False], 'Zip_75093.0': [False], 'Zip_75094.0': [False], 'Zip_75103.0': [False], 'Zip_75104.0': [False], 'Zip_75111.0': [False], 'Zip_75115.0': [False], 'Zip_75116.0': [False], 'Zip_75119.0': [False], 'Zip_75126.0': [False], 'Zip_75127.0': [False], 'Zip_75134.0': [False], 'Zip_75137.0': [False], 'Zip_75141.0': [False], 'Zip_75146.0': [False], 'Zip_75149.0': [False], 'Zip_75150.0': [False], 'Zip_75154.0': [False], 'Zip_75159.0': [False], 'Zip_75165.0': [False], 'Zip_75172.0': [False], 'Zip_75180.0': [False], 'Zip_75181.0': [False], 'Zip_75182.0': [False], 'Zip_75200.0': [False], 'Zip_75201.0': [False], 'Zip_75202.0': [False], 'Zip_75203.0': [False], 'Zip_75204.0': [False], 'Zip_75205.0': [False], 'Zip_75206.0': [False], 'Zip_75207.0': [False], 'Zip_75208.0': [False], 'Zip_75209.0': [False], 'Zip_75210.0': [False], 'Zip_75211.0': [False], 'Zip_75212.0': [False], 'Zip_75213.0': [False], 'Zip_75214.0': [False], 'Zip_75215.0': [False], 'Zip_75216.0': [False], 'Zip_75217.0': [False], 'Zip_75218.0': [False], 'Zip_75219.0': [False], 'Zip_75220.0': [False], 'Zip_75221.0': [False], 'Zip_75223.0': [False], 'Zip_75224.0': [False], 'Zip_75225.0': [False], 'Zip_75226.0': [False], 'Zip_75227.0': [False], 'Zip_75228.0': [False], 'Zip_75229.0': [False], 'Zip_75230.0': [False], 'Zip_75231.0': [False], 'Zip_75232.0': [False], 'Zip_75233.0': [False], 'Zip_75234.0': [False], 'Zip_75235.0': [False], 'Zip_75236.0': [False], 'Zip_75237.0': [False], 'Zip_75238.0': [False], 'Zip_75239.0': [False], 'Zip_75240.0': [False], 'Zip_75241.0': [False], 'Zip_75242.0': [False], 'Zip_75243.0': [False], 'Zip_75244.0': [False], 'Zip_75246.0': [False], 'Zip_75247.0': [False], 'Zip_75248.0': [False], 'Zip_75249.0': [False], 'Zip_75250.0': [False], 'Zip_75251.0': [False], 'Zip_75252.0': [False], 'Zip_75253.0': [False], 'Zip_75254.0': [False], 'Zip_75255.0': [False], 'Zip_75258.0': [False], 'Zip_75260.0': [False], 'Zip_75261.0': [False], 'Zip_75265.0': [False], 'Zip_75275.0': [False], 'Zip_75278.0': [False], 'Zip_75287.0': [False], 'Zip_75288.0': [False], 'Zip_75323.0': [False], 'Zip_75353.0': [False], 'Zip_75379.0': [False], 'Zip_75390.0': [False], 'Zip_75406.0': [False], 'Zip_75409.0': [False], 'Zip_75421.0': [False], 'Zip_75423.0': [False], 'Zip_75428.0': [False], 'Zip_75604.0': [False], 'Zip_76001.0': [False], 'Zip_76002.0': [False], 'Zip_76016.0': [False], 'Zip_76051.0': [False], 'Zip_76084.0': [False], 'Zip_76107.0': [False], 'Zip_76116.0': [False], 'Zip_76123.0': [False], 'Zip_76137.0': [False], 'Zip_76140.0': [False], 'Zip_76155.0': [False], 'Zip_76201.0': [False], 'Zip_76203.0': [False], 'Zip_76204.0': [False], 'Zip_76207.0': [False], 'Zip_76208.0': [False], 'Zip_76210.0': [False], 'Zip_76216.0': [False], 'Zip_76228.0': [False], 'Zip_76231.0': [False], 'Zip_76234.0': [False], 'Zip_76238.0': [False], 'Zip_76309.0': [False], 'Zip_76356.0': [False], 'Zip_76801.0': [False], 'Zip_77024.0': [False], 'Zip_77028.0': [False], 'Zip_77056.0': [False], 'Zip_77057.0': [False], 'Zip_77060.0': [False], 'Zip_77082.0': [False], 'Zip_77099.0': [False], 'Zip_77346.0': [False], 'Zip_77375.0': [False], 'Zip_77449.0': [False], 'Zip_77520.0': [False], 'Zip_77521.0': [False], 'Zip_77530.0': [False], 'Zip_77642.0': [False], 'Zip_78681.0': [False], 'Zip_79745.0': [False], 'Zip_80237.0': [False], 'Zip_89148.0': [False], 'Zip_90033.0': [False], 'Zip_91601.0': [False], 'Zip_91803.0': [False], 'Zip_95207.0': [False], 'Zip_97224.0': [False], 'Zip_98004.0': [False]}\n"
     ]
    }
   ],
   "source": [
    "print(encoded_values)"
   ]
  },
  {
   "cell_type": "code",
   "execution_count": 25,
   "id": "d9368c2c",
   "metadata": {
    "execution": {
     "iopub.execute_input": "2023-10-23T20:04:53.658663Z",
     "iopub.status.busy": "2023-10-23T20:04:53.658401Z",
     "iopub.status.idle": "2023-10-23T20:04:53.668883Z",
     "shell.execute_reply": "2023-10-23T20:04:53.668211Z"
    },
    "papermill": {
     "duration": 0.021965,
     "end_time": "2023-10-23T20:04:53.670702",
     "exception": false,
     "start_time": "2023-10-23T20:04:53.648737",
     "status": "completed"
    },
    "tags": []
   },
   "outputs": [],
   "source": [
    "encoded_df = pd.DataFrame(encoded_values)\n",
    "new_data_df = pd.concat([new_data_df, encoded_df], axis=1)"
   ]
  },
  {
   "cell_type": "code",
   "execution_count": 26,
   "id": "3a2d6544",
   "metadata": {
    "execution": {
     "iopub.execute_input": "2023-10-23T20:04:53.733325Z",
     "iopub.status.busy": "2023-10-23T20:04:53.732993Z",
     "iopub.status.idle": "2023-10-23T20:04:53.751498Z",
     "shell.execute_reply": "2023-10-23T20:04:53.750645Z"
    },
    "papermill": {
     "duration": 0.07398,
     "end_time": "2023-10-23T20:04:53.753428",
     "exception": false,
     "start_time": "2023-10-23T20:04:53.679448",
     "status": "completed"
    },
    "tags": []
   },
   "outputs": [
    {
     "data": {
      "text/html": [
       "<div>\n",
       "<style scoped>\n",
       "    .dataframe tbody tr th:only-of-type {\n",
       "        vertical-align: middle;\n",
       "    }\n",
       "\n",
       "    .dataframe tbody tr th {\n",
       "        vertical-align: top;\n",
       "    }\n",
       "\n",
       "    .dataframe thead th {\n",
       "        text-align: right;\n",
       "    }\n",
       "</style>\n",
       "<table border=\"1\" class=\"dataframe\">\n",
       "  <thead>\n",
       "    <tr style=\"text-align: right;\">\n",
       "      <th></th>\n",
       "      <th>Zip_0.0</th>\n",
       "      <th>Zip_11576.0</th>\n",
       "      <th>Zip_12400.0</th>\n",
       "      <th>Zip_16066.0</th>\n",
       "      <th>Zip_30305.0</th>\n",
       "      <th>Zip_33455.0</th>\n",
       "      <th>Zip_33896.0</th>\n",
       "      <th>Zip_40517.0</th>\n",
       "      <th>Zip_48232.0</th>\n",
       "      <th>Zip_60612.0</th>\n",
       "      <th>...</th>\n",
       "      <th>Zip_78681.0</th>\n",
       "      <th>Zip_79745.0</th>\n",
       "      <th>Zip_80237.0</th>\n",
       "      <th>Zip_89148.0</th>\n",
       "      <th>Zip_90033.0</th>\n",
       "      <th>Zip_91601.0</th>\n",
       "      <th>Zip_91803.0</th>\n",
       "      <th>Zip_95207.0</th>\n",
       "      <th>Zip_97224.0</th>\n",
       "      <th>Zip_98004.0</th>\n",
       "    </tr>\n",
       "  </thead>\n",
       "  <tbody>\n",
       "    <tr>\n",
       "      <th>0</th>\n",
       "      <td>False</td>\n",
       "      <td>False</td>\n",
       "      <td>False</td>\n",
       "      <td>False</td>\n",
       "      <td>False</td>\n",
       "      <td>False</td>\n",
       "      <td>False</td>\n",
       "      <td>False</td>\n",
       "      <td>False</td>\n",
       "      <td>False</td>\n",
       "      <td>...</td>\n",
       "      <td>False</td>\n",
       "      <td>False</td>\n",
       "      <td>False</td>\n",
       "      <td>False</td>\n",
       "      <td>False</td>\n",
       "      <td>False</td>\n",
       "      <td>False</td>\n",
       "      <td>False</td>\n",
       "      <td>False</td>\n",
       "      <td>False</td>\n",
       "    </tr>\n",
       "  </tbody>\n",
       "</table>\n",
       "<p>1 rows × 203 columns</p>\n",
       "</div>"
      ],
      "text/plain": [
       "   Zip_0.0  Zip_11576.0  Zip_12400.0  Zip_16066.0  Zip_30305.0  Zip_33455.0  \\\n",
       "0    False        False        False        False        False        False   \n",
       "\n",
       "   Zip_33896.0  Zip_40517.0  Zip_48232.0  Zip_60612.0  ...  Zip_78681.0  \\\n",
       "0        False        False        False        False  ...        False   \n",
       "\n",
       "   Zip_79745.0  Zip_80237.0  Zip_89148.0  Zip_90033.0  Zip_91601.0  \\\n",
       "0        False        False        False        False        False   \n",
       "\n",
       "   Zip_91803.0  Zip_95207.0  Zip_97224.0  Zip_98004.0  \n",
       "0        False        False        False        False  \n",
       "\n",
       "[1 rows x 203 columns]"
      ]
     },
     "execution_count": 26,
     "metadata": {},
     "output_type": "execute_result"
    }
   ],
   "source": [
    "encoded_df"
   ]
  },
  {
   "cell_type": "code",
   "execution_count": 27,
   "id": "45f61a6d",
   "metadata": {
    "execution": {
     "iopub.execute_input": "2023-10-23T20:04:53.772850Z",
     "iopub.status.busy": "2023-10-23T20:04:53.772566Z",
     "iopub.status.idle": "2023-10-23T20:04:53.789272Z",
     "shell.execute_reply": "2023-10-23T20:04:53.788404Z"
    },
    "papermill": {
     "duration": 0.028646,
     "end_time": "2023-10-23T20:04:53.791247",
     "exception": false,
     "start_time": "2023-10-23T20:04:53.762601",
     "status": "completed"
    },
    "tags": []
   },
   "outputs": [
    {
     "data": {
      "text/html": [
       "<div>\n",
       "<style scoped>\n",
       "    .dataframe tbody tr th:only-of-type {\n",
       "        vertical-align: middle;\n",
       "    }\n",
       "\n",
       "    .dataframe tbody tr th {\n",
       "        vertical-align: top;\n",
       "    }\n",
       "\n",
       "    .dataframe thead th {\n",
       "        text-align: right;\n",
       "    }\n",
       "</style>\n",
       "<table border=\"1\" class=\"dataframe\">\n",
       "  <thead>\n",
       "    <tr style=\"text-align: right;\">\n",
       "      <th></th>\n",
       "      <th>Day1 of the Week</th>\n",
       "      <th>Time Integer</th>\n",
       "      <th>Zip_0.0</th>\n",
       "      <th>Zip_11576.0</th>\n",
       "      <th>Zip_12400.0</th>\n",
       "      <th>Zip_16066.0</th>\n",
       "      <th>Zip_30305.0</th>\n",
       "      <th>Zip_33455.0</th>\n",
       "      <th>Zip_33896.0</th>\n",
       "      <th>Zip_40517.0</th>\n",
       "      <th>...</th>\n",
       "      <th>Zip_78681.0</th>\n",
       "      <th>Zip_79745.0</th>\n",
       "      <th>Zip_80237.0</th>\n",
       "      <th>Zip_89148.0</th>\n",
       "      <th>Zip_90033.0</th>\n",
       "      <th>Zip_91601.0</th>\n",
       "      <th>Zip_91803.0</th>\n",
       "      <th>Zip_95207.0</th>\n",
       "      <th>Zip_97224.0</th>\n",
       "      <th>Zip_98004.0</th>\n",
       "    </tr>\n",
       "  </thead>\n",
       "  <tbody>\n",
       "    <tr>\n",
       "      <th>0</th>\n",
       "      <td>1</td>\n",
       "      <td>20</td>\n",
       "      <td>False</td>\n",
       "      <td>False</td>\n",
       "      <td>False</td>\n",
       "      <td>False</td>\n",
       "      <td>False</td>\n",
       "      <td>False</td>\n",
       "      <td>False</td>\n",
       "      <td>False</td>\n",
       "      <td>...</td>\n",
       "      <td>False</td>\n",
       "      <td>False</td>\n",
       "      <td>False</td>\n",
       "      <td>False</td>\n",
       "      <td>False</td>\n",
       "      <td>False</td>\n",
       "      <td>False</td>\n",
       "      <td>False</td>\n",
       "      <td>False</td>\n",
       "      <td>False</td>\n",
       "    </tr>\n",
       "  </tbody>\n",
       "</table>\n",
       "<p>1 rows × 205 columns</p>\n",
       "</div>"
      ],
      "text/plain": [
       "   Day1 of the Week  Time Integer  Zip_0.0  Zip_11576.0  Zip_12400.0  \\\n",
       "0                 1            20    False        False        False   \n",
       "\n",
       "   Zip_16066.0  Zip_30305.0  Zip_33455.0  Zip_33896.0  Zip_40517.0  ...  \\\n",
       "0        False        False        False        False        False  ...   \n",
       "\n",
       "   Zip_78681.0  Zip_79745.0  Zip_80237.0  Zip_89148.0  Zip_90033.0  \\\n",
       "0        False        False        False        False        False   \n",
       "\n",
       "   Zip_91601.0  Zip_91803.0  Zip_95207.0  Zip_97224.0  Zip_98004.0  \n",
       "0        False        False        False        False        False  \n",
       "\n",
       "[1 rows x 205 columns]"
      ]
     },
     "execution_count": 27,
     "metadata": {},
     "output_type": "execute_result"
    }
   ],
   "source": [
    "new_data_df"
   ]
  },
  {
   "cell_type": "code",
   "execution_count": 28,
   "id": "01e30682",
   "metadata": {
    "execution": {
     "iopub.execute_input": "2023-10-23T20:04:53.811111Z",
     "iopub.status.busy": "2023-10-23T20:04:53.810841Z",
     "iopub.status.idle": "2023-10-23T20:04:53.819595Z",
     "shell.execute_reply": "2023-10-23T20:04:53.818589Z"
    },
    "papermill": {
     "duration": 0.020838,
     "end_time": "2023-10-23T20:04:53.821448",
     "exception": false,
     "start_time": "2023-10-23T20:04:53.800610",
     "status": "completed"
    },
    "tags": []
   },
   "outputs": [
    {
     "name": "stdout",
     "output_type": "stream",
     "text": [
      "Predicted Safety Score: Fairly Unsafe\n"
     ]
    }
   ],
   "source": [
    "# Use your trained model to predict the 'Safety Score' for the new data\n",
    "predicted_safety_score = gb_classifier.predict(new_data_df)\n",
    "\n",
    "# Print the predicted 'Safety Score'\n",
    "print(f\"Predicted Safety Score: {predicted_safety_score[0]}\")"
   ]
  },
  {
   "cell_type": "code",
   "execution_count": null,
   "id": "09767526",
   "metadata": {
    "papermill": {
     "duration": 0.009628,
     "end_time": "2023-10-23T20:04:53.840546",
     "exception": false,
     "start_time": "2023-10-23T20:04:53.830918",
     "status": "completed"
    },
    "tags": []
   },
   "outputs": [],
   "source": []
  }
 ],
 "metadata": {
  "kernelspec": {
   "display_name": "Python 3",
   "language": "python",
   "name": "python3"
  },
  "language_info": {
   "codemirror_mode": {
    "name": "ipython",
    "version": 3
   },
   "file_extension": ".py",
   "mimetype": "text/x-python",
   "name": "python",
   "nbconvert_exporter": "python",
   "pygments_lexer": "ipython3",
   "version": "3.10.12"
  },
  "papermill": {
   "default_parameters": {},
   "duration": 614.378367,
   "end_time": "2023-10-23T20:04:54.269340",
   "environment_variables": {},
   "exception": null,
   "input_path": "__notebook__.ipynb",
   "output_path": "__notebook__.ipynb",
   "parameters": {},
   "start_time": "2023-10-23T19:54:39.890973",
   "version": "2.4.0"
  }
 },
 "nbformat": 4,
 "nbformat_minor": 5
}
