{
 "cells": [
  {
   "cell_type": "code",
   "execution_count": 1,
   "id": "38434622",
   "metadata": {
    "_cell_guid": "b1076dfc-b9ad-4769-8c92-a6c4dae69d19",
    "_uuid": "8f2839f25d086af736a60e9eeb907d3b93b6e0e5",
    "execution": {
     "iopub.execute_input": "2023-10-23T20:08:08.289484Z",
     "iopub.status.busy": "2023-10-23T20:08:08.288675Z",
     "iopub.status.idle": "2023-10-23T20:08:09.107119Z",
     "shell.execute_reply": "2023-10-23T20:08:09.106046Z"
    },
    "papermill": {
     "duration": 0.829677,
     "end_time": "2023-10-23T20:08:09.109645",
     "exception": false,
     "start_time": "2023-10-23T20:08:08.279968",
     "status": "completed"
    },
    "tags": []
   },
   "outputs": [
    {
     "name": "stdout",
     "output_type": "stream",
     "text": [
      "/kaggle/input/preprocessed-dallas-public-safety/filtered_data_3.csv\n"
     ]
    }
   ],
   "source": [
    "# This Python 3 environment comes with many helpful analytics libraries installed\n",
    "# It is defined by the kaggle/python Docker image: https://github.com/kaggle/docker-python\n",
    "# For example, here's several helpful packages to load\n",
    "\n",
    "import numpy as np # linear algebra\n",
    "import pandas as pd # data processing, CSV file I/O (e.g. pd.read_csv)\n",
    "\n",
    "# Input data files are available in the read-only \"../input/\" directory\n",
    "# For example, running this (by clicking run or pressing Shift+Enter) will list all files under the input directory\n",
    "\n",
    "import os\n",
    "for dirname, _, filenames in os.walk('/kaggle/input'):\n",
    "    for filename in filenames:\n",
    "        print(os.path.join(dirname, filename))\n",
    "\n",
    "# You can write up to 20GB to the current directory (/kaggle/working/) that gets preserved as output when you create a version using \"Save & Run All\" \n",
    "# You can also write temporary files to /kaggle/temp/, but they won't be saved outside of the current session"
   ]
  },
  {
   "cell_type": "code",
   "execution_count": 2,
   "id": "ea6c3fea",
   "metadata": {
    "execution": {
     "iopub.execute_input": "2023-10-23T20:08:09.123903Z",
     "iopub.status.busy": "2023-10-23T20:08:09.123437Z",
     "iopub.status.idle": "2023-10-23T20:08:10.522439Z",
     "shell.execute_reply": "2023-10-23T20:08:10.521516Z"
    },
    "papermill": {
     "duration": 1.408794,
     "end_time": "2023-10-23T20:08:10.524999",
     "exception": false,
     "start_time": "2023-10-23T20:08:09.116205",
     "status": "completed"
    },
    "tags": []
   },
   "outputs": [
    {
     "name": "stderr",
     "output_type": "stream",
     "text": [
      "/opt/conda/lib/python3.10/site-packages/scipy/__init__.py:146: UserWarning: A NumPy version >=1.16.5 and <1.23.0 is required for this version of SciPy (detected version 1.23.5\n",
      "  warnings.warn(f\"A NumPy version >={np_minversion} and <{np_maxversion}\"\n"
     ]
    }
   ],
   "source": [
    "import pandas as pd\n",
    "from sklearn.ensemble import RandomForestClassifier\n",
    "from sklearn.model_selection import train_test_split\n",
    "from sklearn.metrics import accuracy_score\n",
    "from sklearn.preprocessing import LabelEncoder\n"
   ]
  },
  {
   "cell_type": "code",
   "execution_count": 3,
   "id": "f9187a3e",
   "metadata": {
    "execution": {
     "iopub.execute_input": "2023-10-23T20:08:10.538941Z",
     "iopub.status.busy": "2023-10-23T20:08:10.538557Z",
     "iopub.status.idle": "2023-10-23T20:08:13.757033Z",
     "shell.execute_reply": "2023-10-23T20:08:13.755999Z"
    },
    "papermill": {
     "duration": 3.228361,
     "end_time": "2023-10-23T20:08:13.759834",
     "exception": false,
     "start_time": "2023-10-23T20:08:10.531473",
     "status": "completed"
    },
    "tags": []
   },
   "outputs": [],
   "source": [
    "data = pd.read_csv('/kaggle/input/preprocessed-dallas-public-safety/filtered_data_3.csv')"
   ]
  },
  {
   "cell_type": "code",
   "execution_count": 4,
   "id": "f1f94ba7",
   "metadata": {
    "execution": {
     "iopub.execute_input": "2023-10-23T20:08:13.774427Z",
     "iopub.status.busy": "2023-10-23T20:08:13.774099Z",
     "iopub.status.idle": "2023-10-23T20:08:14.401232Z",
     "shell.execute_reply": "2023-10-23T20:08:14.400104Z"
    },
    "papermill": {
     "duration": 0.63733,
     "end_time": "2023-10-23T20:08:14.403841",
     "exception": false,
     "start_time": "2023-10-23T20:08:13.766511",
     "status": "completed"
    },
    "tags": []
   },
   "outputs": [],
   "source": [
    "data = data.dropna()"
   ]
  },
  {
   "cell_type": "code",
   "execution_count": 5,
   "id": "9b72746a",
   "metadata": {
    "execution": {
     "iopub.execute_input": "2023-10-23T20:08:14.417695Z",
     "iopub.status.busy": "2023-10-23T20:08:14.417342Z",
     "iopub.status.idle": "2023-10-23T20:08:14.438605Z",
     "shell.execute_reply": "2023-10-23T20:08:14.437690Z"
    },
    "papermill": {
     "duration": 0.030458,
     "end_time": "2023-10-23T20:08:14.440727",
     "exception": false,
     "start_time": "2023-10-23T20:08:14.410269",
     "status": "completed"
    },
    "tags": []
   },
   "outputs": [],
   "source": [
    "unique_zip_codes = data['Zip Code'].unique()"
   ]
  },
  {
   "cell_type": "code",
   "execution_count": 6,
   "id": "c769605f",
   "metadata": {
    "execution": {
     "iopub.execute_input": "2023-10-23T20:08:14.454733Z",
     "iopub.status.busy": "2023-10-23T20:08:14.454410Z",
     "iopub.status.idle": "2023-10-23T20:08:15.942923Z",
     "shell.execute_reply": "2023-10-23T20:08:15.941865Z"
    },
    "papermill": {
     "duration": 1.498314,
     "end_time": "2023-10-23T20:08:15.945388",
     "exception": false,
     "start_time": "2023-10-23T20:08:14.447074",
     "status": "completed"
    },
    "tags": []
   },
   "outputs": [],
   "source": [
    "# Define a function to round the time\n",
    "def round_time(time_str):\n",
    "    hours, minutes = map(int, time_str.split(':'))\n",
    "    if minutes > 30:\n",
    "        if hours == 23:\n",
    "            return 0\n",
    "        else:\n",
    "            return hours + 1\n",
    "    else:\n",
    "        return hours\n",
    "\n",
    "# Apply the round_time function to create the \"Time Integer\" column\n",
    "data['Time Integer'] = data['Time1 of Occurrence'].apply(round_time)"
   ]
  },
  {
   "cell_type": "code",
   "execution_count": 7,
   "id": "b9782777",
   "metadata": {
    "execution": {
     "iopub.execute_input": "2023-10-23T20:08:15.959292Z",
     "iopub.status.busy": "2023-10-23T20:08:15.958961Z",
     "iopub.status.idle": "2023-10-23T20:08:17.638609Z",
     "shell.execute_reply": "2023-10-23T20:08:17.637769Z"
    },
    "papermill": {
     "duration": 1.689156,
     "end_time": "2023-10-23T20:08:17.641094",
     "exception": false,
     "start_time": "2023-10-23T20:08:15.951938",
     "status": "completed"
    },
    "tags": []
   },
   "outputs": [],
   "source": [
    "# Perform label encoding for categorical columns (Day of the Week and Time Bin)\n",
    "label_encoder = LabelEncoder()\n",
    "data['Day1 of the Week'] = label_encoder.fit_transform(data['Day1 of the Week'])\n",
    "data['Time Integer'] = label_encoder.fit_transform(data['Time Integer'])# Perform one-hot encoding for the Zip Code column\n",
    "data = pd.get_dummies(data, columns=['Zip Code'], prefix='Zip')"
   ]
  },
  {
   "cell_type": "code",
   "execution_count": 8,
   "id": "06f2bbc6",
   "metadata": {
    "execution": {
     "iopub.execute_input": "2023-10-23T20:08:17.654986Z",
     "iopub.status.busy": "2023-10-23T20:08:17.654637Z",
     "iopub.status.idle": "2023-10-23T20:08:17.663486Z",
     "shell.execute_reply": "2023-10-23T20:08:17.662703Z"
    },
    "papermill": {
     "duration": 0.017996,
     "end_time": "2023-10-23T20:08:17.665369",
     "exception": false,
     "start_time": "2023-10-23T20:08:17.647373",
     "status": "completed"
    },
    "tags": []
   },
   "outputs": [
    {
     "data": {
      "text/plain": [
       "0          20\n",
       "1          12\n",
       "2          12\n",
       "3           2\n",
       "4          17\n",
       "           ..\n",
       "1048570    19\n",
       "1048571    18\n",
       "1048572     7\n",
       "1048573    10\n",
       "1048574     6\n",
       "Name: Time Integer, Length: 1044139, dtype: int64"
      ]
     },
     "execution_count": 8,
     "metadata": {},
     "output_type": "execute_result"
    }
   ],
   "source": [
    "data['Time Integer']"
   ]
  },
  {
   "cell_type": "code",
   "execution_count": 9,
   "id": "b53c4223",
   "metadata": {
    "execution": {
     "iopub.execute_input": "2023-10-23T20:08:17.679754Z",
     "iopub.status.busy": "2023-10-23T20:08:17.679246Z",
     "iopub.status.idle": "2023-10-23T20:08:17.685590Z",
     "shell.execute_reply": "2023-10-23T20:08:17.684850Z"
    },
    "papermill": {
     "duration": 0.015547,
     "end_time": "2023-10-23T20:08:17.687513",
     "exception": false,
     "start_time": "2023-10-23T20:08:17.671966",
     "status": "completed"
    },
    "tags": []
   },
   "outputs": [],
   "source": [
    "# Define the features and target variable\n",
    "features = ['Day1 of the Week', 'Time Integer'] + [col for col in data.columns if col.startswith('Zip_')]\n",
    "target = 'Safety Score'\n",
    "\n",
    "# Define the ranges and corresponding labels for 'Incident_Score'\n",
    "score_ranges = [(0, 10), (11, 20), (21, 30), (31, 40), (41, 50), (51, 60), (61, 70), (71, 80), (81, 90), (91, 100)]\n",
    "score_labels = ['Very Safe', 'Safe', 'Fairly Safe', 'Somewhat Safe', 'Neutral', 'Somewhat Unsafe', 'Fairly Unsafe', 'Unsafe', 'Very Unsafe', 'Extremely Unsafe']\n"
   ]
  },
  {
   "cell_type": "code",
   "execution_count": 10,
   "id": "56fa3606",
   "metadata": {
    "execution": {
     "iopub.execute_input": "2023-10-23T20:08:17.702120Z",
     "iopub.status.busy": "2023-10-23T20:08:17.701542Z",
     "iopub.status.idle": "2023-10-23T20:08:17.707044Z",
     "shell.execute_reply": "2023-10-23T20:08:17.706039Z"
    },
    "papermill": {
     "duration": 0.015264,
     "end_time": "2023-10-23T20:08:17.709214",
     "exception": false,
     "start_time": "2023-10-23T20:08:17.693950",
     "status": "completed"
    },
    "tags": []
   },
   "outputs": [],
   "source": [
    "# Create a function to assign the label based on the score\n",
    "def assign_safety_score(score):\n",
    "    for i, (start, end) in enumerate(score_ranges):\n",
    "        if start <= score < end:\n",
    "            return score_labels[i]\n",
    "    return None  # Handle values outside the defined ranges\n"
   ]
  },
  {
   "cell_type": "code",
   "execution_count": 11,
   "id": "01f9ccb9",
   "metadata": {
    "execution": {
     "iopub.execute_input": "2023-10-23T20:08:17.724299Z",
     "iopub.status.busy": "2023-10-23T20:08:17.723591Z",
     "iopub.status.idle": "2023-10-23T20:08:20.312207Z",
     "shell.execute_reply": "2023-10-23T20:08:20.311306Z"
    },
    "papermill": {
     "duration": 2.598797,
     "end_time": "2023-10-23T20:08:20.314670",
     "exception": false,
     "start_time": "2023-10-23T20:08:17.715873",
     "status": "completed"
    },
    "tags": []
   },
   "outputs": [],
   "source": [
    "# Apply the function to create the 'Safety Score' column\n",
    "data['Safety Score'] = data['Incident_Score'].apply(assign_safety_score)"
   ]
  },
  {
   "cell_type": "code",
   "execution_count": 12,
   "id": "07d05c7c",
   "metadata": {
    "execution": {
     "iopub.execute_input": "2023-10-23T20:08:20.329728Z",
     "iopub.status.busy": "2023-10-23T20:08:20.329052Z",
     "iopub.status.idle": "2023-10-23T20:08:20.543254Z",
     "shell.execute_reply": "2023-10-23T20:08:20.542343Z"
    },
    "papermill": {
     "duration": 0.224384,
     "end_time": "2023-10-23T20:08:20.545950",
     "exception": false,
     "start_time": "2023-10-23T20:08:20.321566",
     "status": "completed"
    },
    "tags": []
   },
   "outputs": [],
   "source": [
    "# Drop rows where 'Safety Score' is None (outside defined ranges)\n",
    "data.dropna(subset=['Safety Score'], inplace=True)"
   ]
  },
  {
   "cell_type": "code",
   "execution_count": 13,
   "id": "472817c2",
   "metadata": {
    "execution": {
     "iopub.execute_input": "2023-10-23T20:08:20.561589Z",
     "iopub.status.busy": "2023-10-23T20:08:20.561162Z",
     "iopub.status.idle": "2023-10-23T20:08:20.824297Z",
     "shell.execute_reply": "2023-10-23T20:08:20.823246Z"
    },
    "papermill": {
     "duration": 0.273998,
     "end_time": "2023-10-23T20:08:20.827090",
     "exception": false,
     "start_time": "2023-10-23T20:08:20.553092",
     "status": "completed"
    },
    "tags": []
   },
   "outputs": [],
   "source": [
    "# Split the dataset into training and testing sets\n",
    "X = data[features]\n",
    "y = data[target]\n",
    "X_train, X_test, y_train, y_test = train_test_split(X, y, test_size=0.2, random_state=42)\n"
   ]
  },
  {
   "cell_type": "code",
   "execution_count": 14,
   "id": "75478bf1",
   "metadata": {
    "execution": {
     "iopub.execute_input": "2023-10-23T20:08:20.842406Z",
     "iopub.status.busy": "2023-10-23T20:08:20.842074Z",
     "iopub.status.idle": "2023-10-23T20:08:20.895140Z",
     "shell.execute_reply": "2023-10-23T20:08:20.894216Z"
    },
    "papermill": {
     "duration": 0.062978,
     "end_time": "2023-10-23T20:08:20.897314",
     "exception": false,
     "start_time": "2023-10-23T20:08:20.834336",
     "status": "completed"
    },
    "tags": []
   },
   "outputs": [
    {
     "data": {
      "text/html": [
       "<div>\n",
       "<style scoped>\n",
       "    .dataframe tbody tr th:only-of-type {\n",
       "        vertical-align: middle;\n",
       "    }\n",
       "\n",
       "    .dataframe tbody tr th {\n",
       "        vertical-align: top;\n",
       "    }\n",
       "\n",
       "    .dataframe thead th {\n",
       "        text-align: right;\n",
       "    }\n",
       "</style>\n",
       "<table border=\"1\" class=\"dataframe\">\n",
       "  <thead>\n",
       "    <tr style=\"text-align: right;\">\n",
       "      <th></th>\n",
       "      <th>Day1 of the Week</th>\n",
       "      <th>Time Integer</th>\n",
       "      <th>Zip_0.0</th>\n",
       "      <th>Zip_11576.0</th>\n",
       "      <th>Zip_12400.0</th>\n",
       "      <th>Zip_16066.0</th>\n",
       "      <th>Zip_30305.0</th>\n",
       "      <th>Zip_33455.0</th>\n",
       "      <th>Zip_33896.0</th>\n",
       "      <th>Zip_40517.0</th>\n",
       "      <th>...</th>\n",
       "      <th>Zip_78681.0</th>\n",
       "      <th>Zip_79745.0</th>\n",
       "      <th>Zip_80237.0</th>\n",
       "      <th>Zip_89148.0</th>\n",
       "      <th>Zip_90033.0</th>\n",
       "      <th>Zip_91601.0</th>\n",
       "      <th>Zip_91803.0</th>\n",
       "      <th>Zip_95207.0</th>\n",
       "      <th>Zip_97224.0</th>\n",
       "      <th>Zip_98004.0</th>\n",
       "    </tr>\n",
       "  </thead>\n",
       "  <tbody>\n",
       "    <tr>\n",
       "      <th>823362</th>\n",
       "      <td>6</td>\n",
       "      <td>13</td>\n",
       "      <td>False</td>\n",
       "      <td>False</td>\n",
       "      <td>False</td>\n",
       "      <td>False</td>\n",
       "      <td>False</td>\n",
       "      <td>False</td>\n",
       "      <td>False</td>\n",
       "      <td>False</td>\n",
       "      <td>...</td>\n",
       "      <td>False</td>\n",
       "      <td>False</td>\n",
       "      <td>False</td>\n",
       "      <td>False</td>\n",
       "      <td>False</td>\n",
       "      <td>False</td>\n",
       "      <td>False</td>\n",
       "      <td>False</td>\n",
       "      <td>False</td>\n",
       "      <td>False</td>\n",
       "    </tr>\n",
       "    <tr>\n",
       "      <th>278354</th>\n",
       "      <td>5</td>\n",
       "      <td>8</td>\n",
       "      <td>False</td>\n",
       "      <td>False</td>\n",
       "      <td>False</td>\n",
       "      <td>False</td>\n",
       "      <td>False</td>\n",
       "      <td>False</td>\n",
       "      <td>False</td>\n",
       "      <td>False</td>\n",
       "      <td>...</td>\n",
       "      <td>False</td>\n",
       "      <td>False</td>\n",
       "      <td>False</td>\n",
       "      <td>False</td>\n",
       "      <td>False</td>\n",
       "      <td>False</td>\n",
       "      <td>False</td>\n",
       "      <td>False</td>\n",
       "      <td>False</td>\n",
       "      <td>False</td>\n",
       "    </tr>\n",
       "    <tr>\n",
       "      <th>448970</th>\n",
       "      <td>3</td>\n",
       "      <td>0</td>\n",
       "      <td>False</td>\n",
       "      <td>False</td>\n",
       "      <td>False</td>\n",
       "      <td>False</td>\n",
       "      <td>False</td>\n",
       "      <td>False</td>\n",
       "      <td>False</td>\n",
       "      <td>False</td>\n",
       "      <td>...</td>\n",
       "      <td>False</td>\n",
       "      <td>False</td>\n",
       "      <td>False</td>\n",
       "      <td>False</td>\n",
       "      <td>False</td>\n",
       "      <td>False</td>\n",
       "      <td>False</td>\n",
       "      <td>False</td>\n",
       "      <td>False</td>\n",
       "      <td>False</td>\n",
       "    </tr>\n",
       "    <tr>\n",
       "      <th>252167</th>\n",
       "      <td>5</td>\n",
       "      <td>18</td>\n",
       "      <td>False</td>\n",
       "      <td>False</td>\n",
       "      <td>False</td>\n",
       "      <td>False</td>\n",
       "      <td>False</td>\n",
       "      <td>False</td>\n",
       "      <td>False</td>\n",
       "      <td>False</td>\n",
       "      <td>...</td>\n",
       "      <td>False</td>\n",
       "      <td>False</td>\n",
       "      <td>False</td>\n",
       "      <td>False</td>\n",
       "      <td>False</td>\n",
       "      <td>False</td>\n",
       "      <td>False</td>\n",
       "      <td>False</td>\n",
       "      <td>False</td>\n",
       "      <td>False</td>\n",
       "    </tr>\n",
       "    <tr>\n",
       "      <th>141042</th>\n",
       "      <td>3</td>\n",
       "      <td>20</td>\n",
       "      <td>False</td>\n",
       "      <td>False</td>\n",
       "      <td>False</td>\n",
       "      <td>False</td>\n",
       "      <td>False</td>\n",
       "      <td>False</td>\n",
       "      <td>False</td>\n",
       "      <td>False</td>\n",
       "      <td>...</td>\n",
       "      <td>False</td>\n",
       "      <td>False</td>\n",
       "      <td>False</td>\n",
       "      <td>False</td>\n",
       "      <td>False</td>\n",
       "      <td>False</td>\n",
       "      <td>False</td>\n",
       "      <td>False</td>\n",
       "      <td>False</td>\n",
       "      <td>False</td>\n",
       "    </tr>\n",
       "    <tr>\n",
       "      <th>...</th>\n",
       "      <td>...</td>\n",
       "      <td>...</td>\n",
       "      <td>...</td>\n",
       "      <td>...</td>\n",
       "      <td>...</td>\n",
       "      <td>...</td>\n",
       "      <td>...</td>\n",
       "      <td>...</td>\n",
       "      <td>...</td>\n",
       "      <td>...</td>\n",
       "      <td>...</td>\n",
       "      <td>...</td>\n",
       "      <td>...</td>\n",
       "      <td>...</td>\n",
       "      <td>...</td>\n",
       "      <td>...</td>\n",
       "      <td>...</td>\n",
       "      <td>...</td>\n",
       "      <td>...</td>\n",
       "      <td>...</td>\n",
       "      <td>...</td>\n",
       "    </tr>\n",
       "    <tr>\n",
       "      <th>682809</th>\n",
       "      <td>5</td>\n",
       "      <td>12</td>\n",
       "      <td>False</td>\n",
       "      <td>False</td>\n",
       "      <td>False</td>\n",
       "      <td>False</td>\n",
       "      <td>False</td>\n",
       "      <td>False</td>\n",
       "      <td>False</td>\n",
       "      <td>False</td>\n",
       "      <td>...</td>\n",
       "      <td>False</td>\n",
       "      <td>False</td>\n",
       "      <td>False</td>\n",
       "      <td>False</td>\n",
       "      <td>False</td>\n",
       "      <td>False</td>\n",
       "      <td>False</td>\n",
       "      <td>False</td>\n",
       "      <td>False</td>\n",
       "      <td>False</td>\n",
       "    </tr>\n",
       "    <tr>\n",
       "      <th>1031324</th>\n",
       "      <td>3</td>\n",
       "      <td>15</td>\n",
       "      <td>False</td>\n",
       "      <td>False</td>\n",
       "      <td>False</td>\n",
       "      <td>False</td>\n",
       "      <td>False</td>\n",
       "      <td>False</td>\n",
       "      <td>False</td>\n",
       "      <td>False</td>\n",
       "      <td>...</td>\n",
       "      <td>False</td>\n",
       "      <td>False</td>\n",
       "      <td>False</td>\n",
       "      <td>False</td>\n",
       "      <td>False</td>\n",
       "      <td>False</td>\n",
       "      <td>False</td>\n",
       "      <td>False</td>\n",
       "      <td>False</td>\n",
       "      <td>False</td>\n",
       "    </tr>\n",
       "    <tr>\n",
       "      <th>323019</th>\n",
       "      <td>0</td>\n",
       "      <td>12</td>\n",
       "      <td>False</td>\n",
       "      <td>False</td>\n",
       "      <td>False</td>\n",
       "      <td>False</td>\n",
       "      <td>False</td>\n",
       "      <td>False</td>\n",
       "      <td>False</td>\n",
       "      <td>False</td>\n",
       "      <td>...</td>\n",
       "      <td>False</td>\n",
       "      <td>False</td>\n",
       "      <td>False</td>\n",
       "      <td>False</td>\n",
       "      <td>False</td>\n",
       "      <td>False</td>\n",
       "      <td>False</td>\n",
       "      <td>False</td>\n",
       "      <td>False</td>\n",
       "      <td>False</td>\n",
       "    </tr>\n",
       "    <tr>\n",
       "      <th>355304</th>\n",
       "      <td>0</td>\n",
       "      <td>2</td>\n",
       "      <td>False</td>\n",
       "      <td>False</td>\n",
       "      <td>False</td>\n",
       "      <td>False</td>\n",
       "      <td>False</td>\n",
       "      <td>False</td>\n",
       "      <td>False</td>\n",
       "      <td>False</td>\n",
       "      <td>...</td>\n",
       "      <td>False</td>\n",
       "      <td>False</td>\n",
       "      <td>False</td>\n",
       "      <td>False</td>\n",
       "      <td>False</td>\n",
       "      <td>False</td>\n",
       "      <td>False</td>\n",
       "      <td>False</td>\n",
       "      <td>False</td>\n",
       "      <td>False</td>\n",
       "    </tr>\n",
       "    <tr>\n",
       "      <th>296078</th>\n",
       "      <td>4</td>\n",
       "      <td>22</td>\n",
       "      <td>False</td>\n",
       "      <td>False</td>\n",
       "      <td>False</td>\n",
       "      <td>False</td>\n",
       "      <td>False</td>\n",
       "      <td>False</td>\n",
       "      <td>False</td>\n",
       "      <td>False</td>\n",
       "      <td>...</td>\n",
       "      <td>False</td>\n",
       "      <td>False</td>\n",
       "      <td>False</td>\n",
       "      <td>False</td>\n",
       "      <td>False</td>\n",
       "      <td>False</td>\n",
       "      <td>False</td>\n",
       "      <td>False</td>\n",
       "      <td>False</td>\n",
       "      <td>False</td>\n",
       "    </tr>\n",
       "  </tbody>\n",
       "</table>\n",
       "<p>296860 rows × 205 columns</p>\n",
       "</div>"
      ],
      "text/plain": [
       "         Day1 of the Week  Time Integer  Zip_0.0  Zip_11576.0  Zip_12400.0  \\\n",
       "823362                  6            13    False        False        False   \n",
       "278354                  5             8    False        False        False   \n",
       "448970                  3             0    False        False        False   \n",
       "252167                  5            18    False        False        False   \n",
       "141042                  3            20    False        False        False   \n",
       "...                   ...           ...      ...          ...          ...   \n",
       "682809                  5            12    False        False        False   \n",
       "1031324                 3            15    False        False        False   \n",
       "323019                  0            12    False        False        False   \n",
       "355304                  0             2    False        False        False   \n",
       "296078                  4            22    False        False        False   \n",
       "\n",
       "         Zip_16066.0  Zip_30305.0  Zip_33455.0  Zip_33896.0  Zip_40517.0  ...  \\\n",
       "823362         False        False        False        False        False  ...   \n",
       "278354         False        False        False        False        False  ...   \n",
       "448970         False        False        False        False        False  ...   \n",
       "252167         False        False        False        False        False  ...   \n",
       "141042         False        False        False        False        False  ...   \n",
       "...              ...          ...          ...          ...          ...  ...   \n",
       "682809         False        False        False        False        False  ...   \n",
       "1031324        False        False        False        False        False  ...   \n",
       "323019         False        False        False        False        False  ...   \n",
       "355304         False        False        False        False        False  ...   \n",
       "296078         False        False        False        False        False  ...   \n",
       "\n",
       "         Zip_78681.0  Zip_79745.0  Zip_80237.0  Zip_89148.0  Zip_90033.0  \\\n",
       "823362         False        False        False        False        False   \n",
       "278354         False        False        False        False        False   \n",
       "448970         False        False        False        False        False   \n",
       "252167         False        False        False        False        False   \n",
       "141042         False        False        False        False        False   \n",
       "...              ...          ...          ...          ...          ...   \n",
       "682809         False        False        False        False        False   \n",
       "1031324        False        False        False        False        False   \n",
       "323019         False        False        False        False        False   \n",
       "355304         False        False        False        False        False   \n",
       "296078         False        False        False        False        False   \n",
       "\n",
       "         Zip_91601.0  Zip_91803.0  Zip_95207.0  Zip_97224.0  Zip_98004.0  \n",
       "823362         False        False        False        False        False  \n",
       "278354         False        False        False        False        False  \n",
       "448970         False        False        False        False        False  \n",
       "252167         False        False        False        False        False  \n",
       "141042         False        False        False        False        False  \n",
       "...              ...          ...          ...          ...          ...  \n",
       "682809         False        False        False        False        False  \n",
       "1031324        False        False        False        False        False  \n",
       "323019         False        False        False        False        False  \n",
       "355304         False        False        False        False        False  \n",
       "296078         False        False        False        False        False  \n",
       "\n",
       "[296860 rows x 205 columns]"
      ]
     },
     "execution_count": 14,
     "metadata": {},
     "output_type": "execute_result"
    }
   ],
   "source": [
    "X_train"
   ]
  },
  {
   "cell_type": "code",
   "execution_count": 15,
   "id": "a497e582",
   "metadata": {
    "execution": {
     "iopub.execute_input": "2023-10-23T20:08:20.913590Z",
     "iopub.status.busy": "2023-10-23T20:08:20.913278Z",
     "iopub.status.idle": "2023-10-23T20:09:57.731023Z",
     "shell.execute_reply": "2023-10-23T20:09:57.729908Z"
    },
    "papermill": {
     "duration": 96.835491,
     "end_time": "2023-10-23T20:09:57.740596",
     "exception": false,
     "start_time": "2023-10-23T20:08:20.905105",
     "status": "completed"
    },
    "tags": []
   },
   "outputs": [
    {
     "name": "stdout",
     "output_type": "stream",
     "text": [
      "Accuracy: 0.33287970249002913\n"
     ]
    }
   ],
   "source": [
    "# Create and train a Random Forest Classifier model\n",
    "model = RandomForestClassifier(n_estimators=100, random_state=42)\n",
    "model.fit(X_train, y_train)\n",
    "\n",
    "import pickle\n",
    "filename = 'rfc_model.pkl'\n",
    "pickle.dump(model, open(filename, 'wb'))\n",
    "\n",
    "# Make predictions on the test set\n",
    "y_pred = model.predict(X_test)\n",
    "\n",
    "# Evaluate the model using accuracy score\n",
    "accuracy = accuracy_score(y_test, y_pred)\n",
    "print(f\"Accuracy: {accuracy}\")"
   ]
  },
  {
   "cell_type": "code",
   "execution_count": 16,
   "id": "871a30a7",
   "metadata": {
    "execution": {
     "iopub.execute_input": "2023-10-23T20:09:57.758150Z",
     "iopub.status.busy": "2023-10-23T20:09:57.757494Z",
     "iopub.status.idle": "2023-10-23T20:09:57.762452Z",
     "shell.execute_reply": "2023-10-23T20:09:57.761422Z"
    },
    "papermill": {
     "duration": 0.016373,
     "end_time": "2023-10-23T20:09:57.764811",
     "exception": false,
     "start_time": "2023-10-23T20:09:57.748438",
     "status": "completed"
    },
    "tags": []
   },
   "outputs": [],
   "source": [
    "# from sklearn.ensemble import GradientBoostingClassifier\n",
    "# # Initialize the Gradient Boosting Classifier\n",
    "# gb_classifier = GradientBoostingClassifier(n_estimators=100, random_state=42)  # You can adjust the hyperparameters as needed\n",
    "# gb_classifier.fit(X_train, y_train)\n",
    "\n",
    "# import pickle\n",
    "# filename = 'rfc_model.pkl'\n",
    "# pickle.dump(gb_classifier, open(filename, 'wb'))\n",
    "\n",
    "# # Make predictions on the test set\n",
    "# y_pred = gb_classifier.predict(X_test)\n",
    "\n",
    "# # Evaluate the model using accuracy score\n",
    "# accuracy = accuracy_score(y_test, y_pred)\n",
    "# print(f\"Accuracy: {accuracy}\")"
   ]
  },
  {
   "cell_type": "code",
   "execution_count": 17,
   "id": "840f05c8",
   "metadata": {
    "execution": {
     "iopub.execute_input": "2023-10-23T20:09:57.781766Z",
     "iopub.status.busy": "2023-10-23T20:09:57.781429Z",
     "iopub.status.idle": "2023-10-23T20:09:57.787919Z",
     "shell.execute_reply": "2023-10-23T20:09:57.787050Z"
    },
    "papermill": {
     "duration": 0.017093,
     "end_time": "2023-10-23T20:09:57.789909",
     "exception": false,
     "start_time": "2023-10-23T20:09:57.772816",
     "status": "completed"
    },
    "tags": []
   },
   "outputs": [],
   "source": [
    "# Assuming you have a new data point in the form of a dictionary\n",
    "new_data = {\n",
    "    'Day1 of the Week': 'Tue',   # Example value\n",
    "    'Time Integer': 'Afternoon',        # Example value\n",
    "}\n",
    "\n",
    "\n",
    "# Convert the new data into a DataFrame with the same structure as your training data\n",
    "new_data_df = pd.DataFrame([new_data])\n",
    "\n",
    "# Perform label encoding for categorical columns (Day of the Week and Time Bin)\n",
    "new_data_df['Day1 of the Week'] = 1\n",
    "new_data_df['Time Integer'] = 20\n",
    "\n",
    "# Perform one-hot encoding for the Zip Code column\n",
    "# new_data_df = pd.get_dummies(new_data_df, columns=['Zip Code'], prefix='Zip')\n",
    "\n"
   ]
  },
  {
   "cell_type": "code",
   "execution_count": 18,
   "id": "cd1afd8c",
   "metadata": {
    "execution": {
     "iopub.execute_input": "2023-10-23T20:09:57.808773Z",
     "iopub.status.busy": "2023-10-23T20:09:57.808442Z",
     "iopub.status.idle": "2023-10-23T20:09:57.817187Z",
     "shell.execute_reply": "2023-10-23T20:09:57.816093Z"
    },
    "papermill": {
     "duration": 0.021494,
     "end_time": "2023-10-23T20:09:57.819335",
     "exception": false,
     "start_time": "2023-10-23T20:09:57.797841",
     "status": "completed"
    },
    "tags": []
   },
   "outputs": [
    {
     "data": {
      "text/html": [
       "<div>\n",
       "<style scoped>\n",
       "    .dataframe tbody tr th:only-of-type {\n",
       "        vertical-align: middle;\n",
       "    }\n",
       "\n",
       "    .dataframe tbody tr th {\n",
       "        vertical-align: top;\n",
       "    }\n",
       "\n",
       "    .dataframe thead th {\n",
       "        text-align: right;\n",
       "    }\n",
       "</style>\n",
       "<table border=\"1\" class=\"dataframe\">\n",
       "  <thead>\n",
       "    <tr style=\"text-align: right;\">\n",
       "      <th></th>\n",
       "      <th>Day1 of the Week</th>\n",
       "      <th>Time Integer</th>\n",
       "    </tr>\n",
       "  </thead>\n",
       "  <tbody>\n",
       "    <tr>\n",
       "      <th>0</th>\n",
       "      <td>1</td>\n",
       "      <td>20</td>\n",
       "    </tr>\n",
       "  </tbody>\n",
       "</table>\n",
       "</div>"
      ],
      "text/plain": [
       "   Day1 of the Week  Time Integer\n",
       "0                 1            20"
      ]
     },
     "execution_count": 18,
     "metadata": {},
     "output_type": "execute_result"
    }
   ],
   "source": [
    "new_data_df"
   ]
  },
  {
   "cell_type": "code",
   "execution_count": 19,
   "id": "e11cc22f",
   "metadata": {
    "execution": {
     "iopub.execute_input": "2023-10-23T20:09:57.836761Z",
     "iopub.status.busy": "2023-10-23T20:09:57.836434Z",
     "iopub.status.idle": "2023-10-23T20:09:57.842366Z",
     "shell.execute_reply": "2023-10-23T20:09:57.841560Z"
    },
    "papermill": {
     "duration": 0.016858,
     "end_time": "2023-10-23T20:09:57.844468",
     "exception": false,
     "start_time": "2023-10-23T20:09:57.827610",
     "status": "completed"
    },
    "tags": []
   },
   "outputs": [],
   "source": [
    "# Initialize a dictionary to hold the one-hot encoded values\n",
    "encoded_values = {}\n",
    "unique_zip_codes.sort()\n",
    "# Create one-hot encoded columns for all unique Zip Codes seen in training data\n",
    "for col in unique_zip_codes:\n",
    "    encoded_values['Zip_' + str(col)] = [True if col == '75231.0' else False]\n"
   ]
  },
  {
   "cell_type": "code",
   "execution_count": 20,
   "id": "33c5c317",
   "metadata": {
    "execution": {
     "iopub.execute_input": "2023-10-23T20:09:57.862095Z",
     "iopub.status.busy": "2023-10-23T20:09:57.861805Z",
     "iopub.status.idle": "2023-10-23T20:09:57.866270Z",
     "shell.execute_reply": "2023-10-23T20:09:57.865384Z"
    },
    "papermill": {
     "duration": 0.016092,
     "end_time": "2023-10-23T20:09:57.868906",
     "exception": false,
     "start_time": "2023-10-23T20:09:57.852814",
     "status": "completed"
    },
    "tags": []
   },
   "outputs": [
    {
     "name": "stdout",
     "output_type": "stream",
     "text": [
      "{'Zip_0.0': [False], 'Zip_11576.0': [False], 'Zip_12400.0': [False], 'Zip_16066.0': [False], 'Zip_30305.0': [False], 'Zip_33455.0': [False], 'Zip_33896.0': [False], 'Zip_40517.0': [False], 'Zip_48232.0': [False], 'Zip_60612.0': [False], 'Zip_63145.0': [False], 'Zip_66210.0': [False], 'Zip_72220.0': [False], 'Zip_73237.0': [False], 'Zip_74204.0': [False], 'Zip_74243.0': [False], 'Zip_74701.0': [False], 'Zip_75001.0': [False], 'Zip_75006.0': [False], 'Zip_75007.0': [False], 'Zip_75014.0': [False], 'Zip_75016.0': [False], 'Zip_75019.0': [False], 'Zip_75021.0': [False], 'Zip_75023.0': [False], 'Zip_75024.0': [False], 'Zip_75025.0': [False], 'Zip_75026.0': [False], 'Zip_75032.0': [False], 'Zip_75033.0': [False], 'Zip_75034.0': [False], 'Zip_75035.0': [False], 'Zip_75039.0': [False], 'Zip_75040.0': [False], 'Zip_75041.0': [False], 'Zip_75042.0': [False], 'Zip_75043.0': [False], 'Zip_75044.0': [False], 'Zip_75048.0': [False], 'Zip_75050.0': [False], 'Zip_75051.0': [False], 'Zip_75052.0': [False], 'Zip_75056.0': [False], 'Zip_75060.0': [False], 'Zip_75061.0': [False], 'Zip_75062.0': [False], 'Zip_75063.0': [False], 'Zip_75068.0': [False], 'Zip_75071.0': [False], 'Zip_75072.0': [False], 'Zip_75074.0': [False], 'Zip_75075.0': [False], 'Zip_75078.0': [False], 'Zip_75080.0': [False], 'Zip_75081.0': [False], 'Zip_75082.0': [False], 'Zip_75087.0': [False], 'Zip_75088.0': [False], 'Zip_75089.0': [False], 'Zip_75093.0': [False], 'Zip_75094.0': [False], 'Zip_75103.0': [False], 'Zip_75104.0': [False], 'Zip_75111.0': [False], 'Zip_75115.0': [False], 'Zip_75116.0': [False], 'Zip_75119.0': [False], 'Zip_75126.0': [False], 'Zip_75127.0': [False], 'Zip_75134.0': [False], 'Zip_75137.0': [False], 'Zip_75141.0': [False], 'Zip_75146.0': [False], 'Zip_75149.0': [False], 'Zip_75150.0': [False], 'Zip_75154.0': [False], 'Zip_75159.0': [False], 'Zip_75165.0': [False], 'Zip_75172.0': [False], 'Zip_75180.0': [False], 'Zip_75181.0': [False], 'Zip_75182.0': [False], 'Zip_75200.0': [False], 'Zip_75201.0': [False], 'Zip_75202.0': [False], 'Zip_75203.0': [False], 'Zip_75204.0': [False], 'Zip_75205.0': [False], 'Zip_75206.0': [False], 'Zip_75207.0': [False], 'Zip_75208.0': [False], 'Zip_75209.0': [False], 'Zip_75210.0': [False], 'Zip_75211.0': [False], 'Zip_75212.0': [False], 'Zip_75213.0': [False], 'Zip_75214.0': [False], 'Zip_75215.0': [False], 'Zip_75216.0': [False], 'Zip_75217.0': [False], 'Zip_75218.0': [False], 'Zip_75219.0': [False], 'Zip_75220.0': [False], 'Zip_75221.0': [False], 'Zip_75223.0': [False], 'Zip_75224.0': [False], 'Zip_75225.0': [False], 'Zip_75226.0': [False], 'Zip_75227.0': [False], 'Zip_75228.0': [False], 'Zip_75229.0': [False], 'Zip_75230.0': [False], 'Zip_75231.0': [False], 'Zip_75232.0': [False], 'Zip_75233.0': [False], 'Zip_75234.0': [False], 'Zip_75235.0': [False], 'Zip_75236.0': [False], 'Zip_75237.0': [False], 'Zip_75238.0': [False], 'Zip_75239.0': [False], 'Zip_75240.0': [False], 'Zip_75241.0': [False], 'Zip_75242.0': [False], 'Zip_75243.0': [False], 'Zip_75244.0': [False], 'Zip_75246.0': [False], 'Zip_75247.0': [False], 'Zip_75248.0': [False], 'Zip_75249.0': [False], 'Zip_75250.0': [False], 'Zip_75251.0': [False], 'Zip_75252.0': [False], 'Zip_75253.0': [False], 'Zip_75254.0': [False], 'Zip_75255.0': [False], 'Zip_75258.0': [False], 'Zip_75260.0': [False], 'Zip_75261.0': [False], 'Zip_75265.0': [False], 'Zip_75275.0': [False], 'Zip_75278.0': [False], 'Zip_75287.0': [False], 'Zip_75288.0': [False], 'Zip_75323.0': [False], 'Zip_75353.0': [False], 'Zip_75379.0': [False], 'Zip_75390.0': [False], 'Zip_75406.0': [False], 'Zip_75409.0': [False], 'Zip_75421.0': [False], 'Zip_75423.0': [False], 'Zip_75428.0': [False], 'Zip_75604.0': [False], 'Zip_76001.0': [False], 'Zip_76002.0': [False], 'Zip_76016.0': [False], 'Zip_76051.0': [False], 'Zip_76084.0': [False], 'Zip_76107.0': [False], 'Zip_76116.0': [False], 'Zip_76123.0': [False], 'Zip_76137.0': [False], 'Zip_76140.0': [False], 'Zip_76155.0': [False], 'Zip_76201.0': [False], 'Zip_76203.0': [False], 'Zip_76204.0': [False], 'Zip_76207.0': [False], 'Zip_76208.0': [False], 'Zip_76210.0': [False], 'Zip_76216.0': [False], 'Zip_76228.0': [False], 'Zip_76231.0': [False], 'Zip_76234.0': [False], 'Zip_76238.0': [False], 'Zip_76309.0': [False], 'Zip_76356.0': [False], 'Zip_76801.0': [False], 'Zip_77024.0': [False], 'Zip_77028.0': [False], 'Zip_77056.0': [False], 'Zip_77057.0': [False], 'Zip_77060.0': [False], 'Zip_77082.0': [False], 'Zip_77099.0': [False], 'Zip_77346.0': [False], 'Zip_77375.0': [False], 'Zip_77449.0': [False], 'Zip_77520.0': [False], 'Zip_77521.0': [False], 'Zip_77530.0': [False], 'Zip_77642.0': [False], 'Zip_78681.0': [False], 'Zip_79745.0': [False], 'Zip_80237.0': [False], 'Zip_89148.0': [False], 'Zip_90033.0': [False], 'Zip_91601.0': [False], 'Zip_91803.0': [False], 'Zip_95207.0': [False], 'Zip_97224.0': [False], 'Zip_98004.0': [False]}\n"
     ]
    }
   ],
   "source": [
    "print(encoded_values)"
   ]
  },
  {
   "cell_type": "code",
   "execution_count": 21,
   "id": "8e34725c",
   "metadata": {
    "execution": {
     "iopub.execute_input": "2023-10-23T20:09:57.887165Z",
     "iopub.status.busy": "2023-10-23T20:09:57.886527Z",
     "iopub.status.idle": "2023-10-23T20:09:57.898803Z",
     "shell.execute_reply": "2023-10-23T20:09:57.897904Z"
    },
    "papermill": {
     "duration": 0.023613,
     "end_time": "2023-10-23T20:09:57.900839",
     "exception": false,
     "start_time": "2023-10-23T20:09:57.877226",
     "status": "completed"
    },
    "tags": []
   },
   "outputs": [],
   "source": [
    "encoded_df = pd.DataFrame(encoded_values)\n",
    "new_data_df = pd.concat([new_data_df, encoded_df], axis=1)"
   ]
  },
  {
   "cell_type": "code",
   "execution_count": 22,
   "id": "5b8a6402",
   "metadata": {
    "execution": {
     "iopub.execute_input": "2023-10-23T20:09:57.918910Z",
     "iopub.status.busy": "2023-10-23T20:09:57.918561Z",
     "iopub.status.idle": "2023-10-23T20:09:57.939614Z",
     "shell.execute_reply": "2023-10-23T20:09:57.938614Z"
    },
    "papermill": {
     "duration": 0.03296,
     "end_time": "2023-10-23T20:09:57.942278",
     "exception": false,
     "start_time": "2023-10-23T20:09:57.909318",
     "status": "completed"
    },
    "tags": []
   },
   "outputs": [
    {
     "data": {
      "text/html": [
       "<div>\n",
       "<style scoped>\n",
       "    .dataframe tbody tr th:only-of-type {\n",
       "        vertical-align: middle;\n",
       "    }\n",
       "\n",
       "    .dataframe tbody tr th {\n",
       "        vertical-align: top;\n",
       "    }\n",
       "\n",
       "    .dataframe thead th {\n",
       "        text-align: right;\n",
       "    }\n",
       "</style>\n",
       "<table border=\"1\" class=\"dataframe\">\n",
       "  <thead>\n",
       "    <tr style=\"text-align: right;\">\n",
       "      <th></th>\n",
       "      <th>Zip_0.0</th>\n",
       "      <th>Zip_11576.0</th>\n",
       "      <th>Zip_12400.0</th>\n",
       "      <th>Zip_16066.0</th>\n",
       "      <th>Zip_30305.0</th>\n",
       "      <th>Zip_33455.0</th>\n",
       "      <th>Zip_33896.0</th>\n",
       "      <th>Zip_40517.0</th>\n",
       "      <th>Zip_48232.0</th>\n",
       "      <th>Zip_60612.0</th>\n",
       "      <th>...</th>\n",
       "      <th>Zip_78681.0</th>\n",
       "      <th>Zip_79745.0</th>\n",
       "      <th>Zip_80237.0</th>\n",
       "      <th>Zip_89148.0</th>\n",
       "      <th>Zip_90033.0</th>\n",
       "      <th>Zip_91601.0</th>\n",
       "      <th>Zip_91803.0</th>\n",
       "      <th>Zip_95207.0</th>\n",
       "      <th>Zip_97224.0</th>\n",
       "      <th>Zip_98004.0</th>\n",
       "    </tr>\n",
       "  </thead>\n",
       "  <tbody>\n",
       "    <tr>\n",
       "      <th>0</th>\n",
       "      <td>False</td>\n",
       "      <td>False</td>\n",
       "      <td>False</td>\n",
       "      <td>False</td>\n",
       "      <td>False</td>\n",
       "      <td>False</td>\n",
       "      <td>False</td>\n",
       "      <td>False</td>\n",
       "      <td>False</td>\n",
       "      <td>False</td>\n",
       "      <td>...</td>\n",
       "      <td>False</td>\n",
       "      <td>False</td>\n",
       "      <td>False</td>\n",
       "      <td>False</td>\n",
       "      <td>False</td>\n",
       "      <td>False</td>\n",
       "      <td>False</td>\n",
       "      <td>False</td>\n",
       "      <td>False</td>\n",
       "      <td>False</td>\n",
       "    </tr>\n",
       "  </tbody>\n",
       "</table>\n",
       "<p>1 rows × 203 columns</p>\n",
       "</div>"
      ],
      "text/plain": [
       "   Zip_0.0  Zip_11576.0  Zip_12400.0  Zip_16066.0  Zip_30305.0  Zip_33455.0  \\\n",
       "0    False        False        False        False        False        False   \n",
       "\n",
       "   Zip_33896.0  Zip_40517.0  Zip_48232.0  Zip_60612.0  ...  Zip_78681.0  \\\n",
       "0        False        False        False        False  ...        False   \n",
       "\n",
       "   Zip_79745.0  Zip_80237.0  Zip_89148.0  Zip_90033.0  Zip_91601.0  \\\n",
       "0        False        False        False        False        False   \n",
       "\n",
       "   Zip_91803.0  Zip_95207.0  Zip_97224.0  Zip_98004.0  \n",
       "0        False        False        False        False  \n",
       "\n",
       "[1 rows x 203 columns]"
      ]
     },
     "execution_count": 22,
     "metadata": {},
     "output_type": "execute_result"
    }
   ],
   "source": [
    "encoded_df"
   ]
  },
  {
   "cell_type": "code",
   "execution_count": 23,
   "id": "b0c0cde5",
   "metadata": {
    "execution": {
     "iopub.execute_input": "2023-10-23T20:09:57.961808Z",
     "iopub.status.busy": "2023-10-23T20:09:57.961419Z",
     "iopub.status.idle": "2023-10-23T20:09:57.981785Z",
     "shell.execute_reply": "2023-10-23T20:09:57.980657Z"
    },
    "papermill": {
     "duration": 0.032768,
     "end_time": "2023-10-23T20:09:57.984178",
     "exception": false,
     "start_time": "2023-10-23T20:09:57.951410",
     "status": "completed"
    },
    "tags": []
   },
   "outputs": [
    {
     "data": {
      "text/html": [
       "<div>\n",
       "<style scoped>\n",
       "    .dataframe tbody tr th:only-of-type {\n",
       "        vertical-align: middle;\n",
       "    }\n",
       "\n",
       "    .dataframe tbody tr th {\n",
       "        vertical-align: top;\n",
       "    }\n",
       "\n",
       "    .dataframe thead th {\n",
       "        text-align: right;\n",
       "    }\n",
       "</style>\n",
       "<table border=\"1\" class=\"dataframe\">\n",
       "  <thead>\n",
       "    <tr style=\"text-align: right;\">\n",
       "      <th></th>\n",
       "      <th>Day1 of the Week</th>\n",
       "      <th>Time Integer</th>\n",
       "      <th>Zip_0.0</th>\n",
       "      <th>Zip_11576.0</th>\n",
       "      <th>Zip_12400.0</th>\n",
       "      <th>Zip_16066.0</th>\n",
       "      <th>Zip_30305.0</th>\n",
       "      <th>Zip_33455.0</th>\n",
       "      <th>Zip_33896.0</th>\n",
       "      <th>Zip_40517.0</th>\n",
       "      <th>...</th>\n",
       "      <th>Zip_78681.0</th>\n",
       "      <th>Zip_79745.0</th>\n",
       "      <th>Zip_80237.0</th>\n",
       "      <th>Zip_89148.0</th>\n",
       "      <th>Zip_90033.0</th>\n",
       "      <th>Zip_91601.0</th>\n",
       "      <th>Zip_91803.0</th>\n",
       "      <th>Zip_95207.0</th>\n",
       "      <th>Zip_97224.0</th>\n",
       "      <th>Zip_98004.0</th>\n",
       "    </tr>\n",
       "  </thead>\n",
       "  <tbody>\n",
       "    <tr>\n",
       "      <th>0</th>\n",
       "      <td>1</td>\n",
       "      <td>20</td>\n",
       "      <td>False</td>\n",
       "      <td>False</td>\n",
       "      <td>False</td>\n",
       "      <td>False</td>\n",
       "      <td>False</td>\n",
       "      <td>False</td>\n",
       "      <td>False</td>\n",
       "      <td>False</td>\n",
       "      <td>...</td>\n",
       "      <td>False</td>\n",
       "      <td>False</td>\n",
       "      <td>False</td>\n",
       "      <td>False</td>\n",
       "      <td>False</td>\n",
       "      <td>False</td>\n",
       "      <td>False</td>\n",
       "      <td>False</td>\n",
       "      <td>False</td>\n",
       "      <td>False</td>\n",
       "    </tr>\n",
       "  </tbody>\n",
       "</table>\n",
       "<p>1 rows × 205 columns</p>\n",
       "</div>"
      ],
      "text/plain": [
       "   Day1 of the Week  Time Integer  Zip_0.0  Zip_11576.0  Zip_12400.0  \\\n",
       "0                 1            20    False        False        False   \n",
       "\n",
       "   Zip_16066.0  Zip_30305.0  Zip_33455.0  Zip_33896.0  Zip_40517.0  ...  \\\n",
       "0        False        False        False        False        False  ...   \n",
       "\n",
       "   Zip_78681.0  Zip_79745.0  Zip_80237.0  Zip_89148.0  Zip_90033.0  \\\n",
       "0        False        False        False        False        False   \n",
       "\n",
       "   Zip_91601.0  Zip_91803.0  Zip_95207.0  Zip_97224.0  Zip_98004.0  \n",
       "0        False        False        False        False        False  \n",
       "\n",
       "[1 rows x 205 columns]"
      ]
     },
     "execution_count": 23,
     "metadata": {},
     "output_type": "execute_result"
    }
   ],
   "source": [
    "new_data_df"
   ]
  },
  {
   "cell_type": "code",
   "execution_count": 24,
   "id": "f42e1720",
   "metadata": {
    "execution": {
     "iopub.execute_input": "2023-10-23T20:09:58.005187Z",
     "iopub.status.busy": "2023-10-23T20:09:58.004841Z",
     "iopub.status.idle": "2023-10-23T20:09:58.024039Z",
     "shell.execute_reply": "2023-10-23T20:09:58.022989Z"
    },
    "papermill": {
     "duration": 0.032437,
     "end_time": "2023-10-23T20:09:58.026489",
     "exception": false,
     "start_time": "2023-10-23T20:09:57.994052",
     "status": "completed"
    },
    "tags": []
   },
   "outputs": [
    {
     "name": "stdout",
     "output_type": "stream",
     "text": [
      "Predicted Safety Score: Fairly Unsafe\n"
     ]
    }
   ],
   "source": [
    "# Use your trained model to predict the 'Safety Score' for the new data\n",
    "predicted_safety_score = model.predict(new_data_df)\n",
    "\n",
    "# Print the predicted 'Safety Score'\n",
    "print(f\"Predicted Safety Score: {predicted_safety_score[0]}\")"
   ]
  },
  {
   "cell_type": "code",
   "execution_count": null,
   "id": "478a66cf",
   "metadata": {
    "papermill": {
     "duration": 0.009417,
     "end_time": "2023-10-23T20:09:58.045196",
     "exception": false,
     "start_time": "2023-10-23T20:09:58.035779",
     "status": "completed"
    },
    "tags": []
   },
   "outputs": [],
   "source": []
  }
 ],
 "metadata": {
  "kernelspec": {
   "display_name": "Python 3",
   "language": "python",
   "name": "python3"
  },
  "language_info": {
   "codemirror_mode": {
    "name": "ipython",
    "version": 3
   },
   "file_extension": ".py",
   "mimetype": "text/x-python",
   "name": "python",
   "nbconvert_exporter": "python",
   "pygments_lexer": "ipython3",
   "version": "3.10.12"
  },
  "papermill": {
   "default_parameters": {},
   "duration": 114.014939,
   "end_time": "2023-10-23T20:09:58.576117",
   "environment_variables": {},
   "exception": null,
   "input_path": "__notebook__.ipynb",
   "output_path": "__notebook__.ipynb",
   "parameters": {},
   "start_time": "2023-10-23T20:08:04.561178",
   "version": "2.4.0"
  }
 },
 "nbformat": 4,
 "nbformat_minor": 5
}
