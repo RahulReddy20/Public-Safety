{
 "cells": [
  {
   "cell_type": "code",
   "execution_count": 1,
   "id": "c68c25f2",
   "metadata": {
    "_cell_guid": "b1076dfc-b9ad-4769-8c92-a6c4dae69d19",
    "_uuid": "8f2839f25d086af736a60e9eeb907d3b93b6e0e5",
    "execution": {
     "iopub.execute_input": "2023-10-22T17:08:47.205130Z",
     "iopub.status.busy": "2023-10-22T17:08:47.203957Z",
     "iopub.status.idle": "2023-10-22T17:08:47.525919Z",
     "shell.execute_reply": "2023-10-22T17:08:47.524794Z"
    },
    "papermill": {
     "duration": 0.330039,
     "end_time": "2023-10-22T17:08:47.528247",
     "exception": false,
     "start_time": "2023-10-22T17:08:47.198208",
     "status": "completed"
    },
    "tags": []
   },
   "outputs": [
    {
     "name": "stdout",
     "output_type": "stream",
     "text": [
      "/kaggle/input/preprocessed-dallas-public-safety/filtered_data_3.csv\n"
     ]
    }
   ],
   "source": [
    "# This Python 3 environment comes with many helpful analytics libraries installed\n",
    "# It is defined by the kaggle/python Docker image: https://github.com/kaggle/docker-python\n",
    "# For example, here's several helpful packages to load\n",
    "\n",
    "import numpy as np # linear algebra\n",
    "import pandas as pd # data processing, CSV file I/O (e.g. pd.read_csv)\n",
    "\n",
    "# Input data files are available in the read-only \"../input/\" directory\n",
    "# For example, running this (by clicking run or pressing Shift+Enter) will list all files under the input directory\n",
    "\n",
    "import os\n",
    "for dirname, _, filenames in os.walk('/kaggle/input'):\n",
    "    for filename in filenames:\n",
    "        print(os.path.join(dirname, filename))\n",
    "\n",
    "# You can write up to 20GB to the current directory (/kaggle/working/) that gets preserved as output when you create a version using \"Save & Run All\" \n",
    "# You can also write temporary files to /kaggle/temp/, but they won't be saved outside of the current session"
   ]
  },
  {
   "cell_type": "code",
   "execution_count": 2,
   "id": "67be89b5",
   "metadata": {
    "execution": {
     "iopub.execute_input": "2023-10-22T17:08:47.539133Z",
     "iopub.status.busy": "2023-10-22T17:08:47.538665Z",
     "iopub.status.idle": "2023-10-22T17:08:47.543139Z",
     "shell.execute_reply": "2023-10-22T17:08:47.541808Z"
    },
    "papermill": {
     "duration": 0.011769,
     "end_time": "2023-10-22T17:08:47.545621",
     "exception": false,
     "start_time": "2023-10-22T17:08:47.533852",
     "status": "completed"
    },
    "tags": []
   },
   "outputs": [],
   "source": [
    "import numpy as np\n",
    "import pandas as pd"
   ]
  },
  {
   "cell_type": "code",
   "execution_count": 3,
   "id": "47dd2a9d",
   "metadata": {
    "execution": {
     "iopub.execute_input": "2023-10-22T17:08:47.553497Z",
     "iopub.status.busy": "2023-10-22T17:08:47.553132Z",
     "iopub.status.idle": "2023-10-22T17:08:50.155228Z",
     "shell.execute_reply": "2023-10-22T17:08:50.154497Z"
    },
    "papermill": {
     "duration": 2.608957,
     "end_time": "2023-10-22T17:08:50.157828",
     "exception": false,
     "start_time": "2023-10-22T17:08:47.548871",
     "status": "completed"
    },
    "tags": []
   },
   "outputs": [],
   "source": [
    "df = pd.read_csv('/kaggle/input/preprocessed-dallas-public-safety/filtered_data_3.csv')"
   ]
  },
  {
   "cell_type": "code",
   "execution_count": 4,
   "id": "a2710ba9",
   "metadata": {
    "execution": {
     "iopub.execute_input": "2023-10-22T17:08:50.166811Z",
     "iopub.status.busy": "2023-10-22T17:08:50.165828Z",
     "iopub.status.idle": "2023-10-22T17:08:50.562039Z",
     "shell.execute_reply": "2023-10-22T17:08:50.560269Z"
    },
    "papermill": {
     "duration": 0.403562,
     "end_time": "2023-10-22T17:08:50.564746",
     "exception": false,
     "start_time": "2023-10-22T17:08:50.161184",
     "status": "completed"
    },
    "tags": []
   },
   "outputs": [
    {
     "name": "stdout",
     "output_type": "stream",
     "text": [
      "         Zip Code Day1 of the Week Time1 of Occurrence       Time Bin  \\\n",
      "0         75231.0              Tue               20:00          Night   \n",
      "1         75240.0              Fri               12:00      Afternoon   \n",
      "2         75215.0              Mon               12:00      Afternoon   \n",
      "3         75209.0              Thu               01:38  Early Morning   \n",
      "4         75208.0              Mon               17:30      Afternoon   \n",
      "...           ...              ...                 ...            ...   \n",
      "1127417   75205.0              Sat               10:45        Morning   \n",
      "1127418   75204.0              Mon               19:00          Night   \n",
      "1127419   75225.0              Sat               17:45      Afternoon   \n",
      "1127420   75228.0              Tue               22:30          Night   \n",
      "1127421   75238.0              Tue               12:30      Afternoon   \n",
      "\n",
      "              Division  Sector  Zip-Time-Percentage  Zipcode-Day-Percentage  \\\n",
      "0            NORTHEAST   210.0                33.66                   14.13   \n",
      "1        NORTH CENTRAL   640.0                30.19                   15.33   \n",
      "2              CENTRAL   150.0                29.00                   14.17   \n",
      "3            NORTHWEST   520.0                17.14                   14.23   \n",
      "4            SOUTHWEST   410.0                27.10                   14.38   \n",
      "...                ...     ...                  ...                     ...   \n",
      "1127417        CENTRAL   120.0                19.19                   14.06   \n",
      "1127418        CENTRAL   150.0                34.35                   14.24   \n",
      "1127419  NORTH CENTRAL   650.0                47.23                   15.99   \n",
      "1127420      NORTHEAST   230.0                33.47                   13.73   \n",
      "1127421      NORTHEAST   230.0                27.39                   13.67   \n",
      "\n",
      "         Zipcode-Percentage  Incident_Score  \\\n",
      "0                      3.29              35   \n",
      "1                      2.20              25   \n",
      "2                      3.37              65   \n",
      "3                      0.88              10   \n",
      "4                      2.28              65   \n",
      "...                     ...             ...   \n",
      "1127417                0.36              65   \n",
      "1127418                3.68              85   \n",
      "1127419                0.97              30   \n",
      "1127420                4.81              55   \n",
      "1127421                1.96              70   \n",
      "\n",
      "                                          Type of Incident  WeekDay-Percentage  \n",
      "0               THEFT OF PROP (AUTO ACC) <$100 - (NOT EMP)               13.74  \n",
      "1         FALSE STATEMENT FOR PROPERTY/CREDIT $2500 < $30K               15.24  \n",
      "2                          CREDIT CARD OR DEBIT CARD ABUSE               14.21  \n",
      "3                          ABANDONED PROPERTY (NO OFFENSE)               13.97  \n",
      "4               UNAUTHORIZED USE OF MOTOR VEH - AUTOMOBILE               14.21  \n",
      "...                                                    ...                 ...  \n",
      "1127417  THEFT OF PROP > OR EQUAL $750 BUT <$2,500 -SHO...               14.91  \n",
      "1127418                BURGLARY OF BUILDING - FORCED ENTRY               14.21  \n",
      "1127419                                POSS MARIJUANA <2OZ               14.91  \n",
      "1127420         CRIM MISCHIEF > OR EQUAL $500 BUT < $1,500               13.74  \n",
      "1127421                                     DEADLY CONDUCT               13.74  \n",
      "\n",
      "[1127422 rows x 12 columns]\n"
     ]
    }
   ],
   "source": [
    "# Group by 'Day1 of the Week' and calculate the total incident count for each day\n",
    "day_counts = df.groupby('Day1 of the Week').size().reset_index(name='IncidentCount')\n",
    "\n",
    "# Calculate the total number of incidents in the dataset\n",
    "total_incidents = day_counts['IncidentCount'].sum()\n",
    "\n",
    "# Calculate the percentage for each day and round to 2 decimal places\n",
    "day_counts['Percentage'] = round((day_counts['IncidentCount'] / total_incidents) * 100, 2)\n",
    "\n",
    "# Sort the day counts dictionary by percentage in descending order\n",
    "sorted_day_incident_dict = dict(sorted(day_counts[['Day1 of the Week', 'Percentage']].values, key=lambda x: x[1], reverse=True))\n",
    "\n",
    "# Create a DataFrame from the sorted dictionary\n",
    "table_df = pd.DataFrame(sorted_day_incident_dict.items(), columns=['Day1 of the Week', 'Percentage'])\n",
    "\n",
    "# Merge the 'Percentage' column from 'table_df' into the original 'df' and rename it\n",
    "df = df.merge(table_df, on='Day1 of the Week', how='left').rename(columns={'Percentage': 'WeekDay-Percentage'})\n",
    "\n",
    "# Print the updated DataFrame\n",
    "print(df)"
   ]
  },
  {
   "cell_type": "code",
   "execution_count": 5,
   "id": "1a874a2b",
   "metadata": {
    "execution": {
     "iopub.execute_input": "2023-10-22T17:08:50.574083Z",
     "iopub.status.busy": "2023-10-22T17:08:50.573722Z",
     "iopub.status.idle": "2023-10-22T17:08:51.237165Z",
     "shell.execute_reply": "2023-10-22T17:08:51.235479Z"
    },
    "papermill": {
     "duration": 0.670816,
     "end_time": "2023-10-22T17:08:51.239921",
     "exception": false,
     "start_time": "2023-10-22T17:08:50.569105",
     "status": "completed"
    },
    "tags": []
   },
   "outputs": [],
   "source": [
    "# Define time bins\n",
    "time_bins = {\n",
    "    'Night': ('18:00', '23:59'),\n",
    "    'Early Morning': ('00:00', '05:59'),\n",
    "    'Morning': ('06:00', '11:59'),\n",
    "    'Afternoon': ('12:00', '17:59')\n",
    "}\n",
    "\n",
    "# Create a function to assign time bins\n",
    "def assign_time_bin(time):\n",
    "    for bin_label, (start_time, end_time) in time_bins.items():\n",
    "        if start_time <= time <= end_time:\n",
    "            return bin_label\n",
    "    return 'Unknown'\n",
    "\n",
    "# Assign time bins to each row in the DataFrame\n",
    "df['Time Bin'] = df['Time1 of Occurrence'].apply(assign_time_bin)"
   ]
  },
  {
   "cell_type": "code",
   "execution_count": 6,
   "id": "2d8a233b",
   "metadata": {
    "execution": {
     "iopub.execute_input": "2023-10-22T17:08:51.247819Z",
     "iopub.status.busy": "2023-10-22T17:08:51.247498Z",
     "iopub.status.idle": "2023-10-22T17:08:51.523191Z",
     "shell.execute_reply": "2023-10-22T17:08:51.521968Z"
    },
    "papermill": {
     "duration": 0.282102,
     "end_time": "2023-10-22T17:08:51.525360",
     "exception": false,
     "start_time": "2023-10-22T17:08:51.243258",
     "status": "completed"
    },
    "tags": []
   },
   "outputs": [
    {
     "name": "stdout",
     "output_type": "stream",
     "text": [
      "         Zip Code Day1 of the Week Time1 of Occurrence       Time Bin  \\\n",
      "0         75231.0              Tue               20:00          Night   \n",
      "1         75240.0              Fri               12:00      Afternoon   \n",
      "2         75215.0              Mon               12:00      Afternoon   \n",
      "3         75209.0              Thu               01:38  Early Morning   \n",
      "4         75208.0              Mon               17:30      Afternoon   \n",
      "...           ...              ...                 ...            ...   \n",
      "1127417   75205.0              Sat               10:45        Morning   \n",
      "1127418   75204.0              Mon               19:00          Night   \n",
      "1127419   75225.0              Sat               17:45      Afternoon   \n",
      "1127420   75228.0              Tue               22:30          Night   \n",
      "1127421   75238.0              Tue               12:30      Afternoon   \n",
      "\n",
      "              Division  Sector  Zip-Time-Percentage  Zipcode-Day-Percentage  \\\n",
      "0            NORTHEAST   210.0                33.66                   14.13   \n",
      "1        NORTH CENTRAL   640.0                30.19                   15.33   \n",
      "2              CENTRAL   150.0                29.00                   14.17   \n",
      "3            NORTHWEST   520.0                17.14                   14.23   \n",
      "4            SOUTHWEST   410.0                27.10                   14.38   \n",
      "...                ...     ...                  ...                     ...   \n",
      "1127417        CENTRAL   120.0                19.19                   14.06   \n",
      "1127418        CENTRAL   150.0                34.35                   14.24   \n",
      "1127419  NORTH CENTRAL   650.0                47.23                   15.99   \n",
      "1127420      NORTHEAST   230.0                33.47                   13.73   \n",
      "1127421      NORTHEAST   230.0                27.39                   13.67   \n",
      "\n",
      "         Zipcode-Percentage  Incident_Score  \\\n",
      "0                      3.29              35   \n",
      "1                      2.20              25   \n",
      "2                      3.37              65   \n",
      "3                      0.88              10   \n",
      "4                      2.28              65   \n",
      "...                     ...             ...   \n",
      "1127417                0.36              65   \n",
      "1127418                3.68              85   \n",
      "1127419                0.97              30   \n",
      "1127420                4.81              55   \n",
      "1127421                1.96              70   \n",
      "\n",
      "                                          Type of Incident  \\\n",
      "0               THEFT OF PROP (AUTO ACC) <$100 - (NOT EMP)   \n",
      "1         FALSE STATEMENT FOR PROPERTY/CREDIT $2500 < $30K   \n",
      "2                          CREDIT CARD OR DEBIT CARD ABUSE   \n",
      "3                          ABANDONED PROPERTY (NO OFFENSE)   \n",
      "4               UNAUTHORIZED USE OF MOTOR VEH - AUTOMOBILE   \n",
      "...                                                    ...   \n",
      "1127417  THEFT OF PROP > OR EQUAL $750 BUT <$2,500 -SHO...   \n",
      "1127418                BURGLARY OF BUILDING - FORCED ENTRY   \n",
      "1127419                                POSS MARIJUANA <2OZ   \n",
      "1127420         CRIM MISCHIEF > OR EQUAL $500 BUT < $1,500   \n",
      "1127421                                     DEADLY CONDUCT   \n",
      "\n",
      "         WeekDay-Percentage  TimeBin-Percentage  \n",
      "0                     13.74               32.14  \n",
      "1                     15.24               27.44  \n",
      "2                     14.21               27.44  \n",
      "3                     13.97               21.08  \n",
      "4                     14.21               27.44  \n",
      "...                     ...                 ...  \n",
      "1127417               14.91               19.35  \n",
      "1127418               14.21               32.14  \n",
      "1127419               14.91               27.44  \n",
      "1127420               13.74               32.14  \n",
      "1127421               13.74               27.44  \n",
      "\n",
      "[1127422 rows x 13 columns]\n"
     ]
    }
   ],
   "source": [
    "# Calculate the total incident count for each Time Bin\n",
    "timebin_counts = df.groupby('Time Bin').size().reset_index(name='IncidentCount')\n",
    "\n",
    "# Calculate the total number of incidents in the dataset\n",
    "total_incidents = timebin_counts['IncidentCount'].sum()\n",
    "\n",
    "# Calculate the percentage for each Time Bin and round to 2 decimal places\n",
    "timebin_counts['Percentage'] = (timebin_counts['IncidentCount'] / total_incidents * 100).round(2)\n",
    "\n",
    "# Sort the Time Bin percentages in descending order and create a DataFrame\n",
    "table_df = (timebin_counts.sort_values(by='Percentage', ascending=False)\n",
    "                        .reset_index(drop=True)\n",
    "                        .rename(columns={'Time Bin': 'Time Bin', 'Percentage': 'TimeBin-Percentage'}))\n",
    "\n",
    "# Merge the 'TimeBin-Percentage' column from 'table_df' into the original 'df'\n",
    "df = df.merge(table_df[['Time Bin', 'TimeBin-Percentage']], on='Time Bin', how='left')\n",
    "\n",
    "# Print the updated DataFrame to verify\n",
    "print(df)"
   ]
  },
  {
   "cell_type": "code",
   "execution_count": 7,
   "id": "17696b95",
   "metadata": {
    "execution": {
     "iopub.execute_input": "2023-10-22T17:08:51.533914Z",
     "iopub.status.busy": "2023-10-22T17:08:51.533544Z",
     "iopub.status.idle": "2023-10-22T17:08:51.542223Z",
     "shell.execute_reply": "2023-10-22T17:08:51.540713Z"
    },
    "papermill": {
     "duration": 0.016069,
     "end_time": "2023-10-22T17:08:51.544791",
     "exception": false,
     "start_time": "2023-10-22T17:08:51.528722",
     "status": "completed"
    },
    "tags": []
   },
   "outputs": [],
   "source": [
    "df['Zipcode-Percentage'].fillna(0, inplace=True)"
   ]
  },
  {
   "cell_type": "code",
   "execution_count": 8,
   "id": "4310cd23",
   "metadata": {
    "execution": {
     "iopub.execute_input": "2023-10-22T17:08:51.553536Z",
     "iopub.status.busy": "2023-10-22T17:08:51.553189Z",
     "iopub.status.idle": "2023-10-22T17:08:51.570857Z",
     "shell.execute_reply": "2023-10-22T17:08:51.569437Z"
    },
    "papermill": {
     "duration": 0.025112,
     "end_time": "2023-10-22T17:08:51.573461",
     "exception": false,
     "start_time": "2023-10-22T17:08:51.548349",
     "status": "completed"
    },
    "tags": []
   },
   "outputs": [],
   "source": [
    "# Define the weights for each component\n",
    "weight_zipcode = 0.3\n",
    "weight_incident = 0.3\n",
    "weight_weekday = 0.2\n",
    "weight_timebin = 0.2\n",
    "\n",
    "# Calculate the individual components\n",
    "zipcode_component = df['Zipcode-Percentage'] * weight_zipcode\n",
    "incident_component = df['Incident_Score'] * weight_incident\n",
    "weekday_component = df['WeekDay-Percentage'] * weight_weekday\n",
    "timebin_component = df['TimeBin-Percentage'] * weight_timebin\n",
    "\n",
    "# Calculate the 'Proxy Safety Score' by summing the components\n",
    "df['Proxy Safety Score'] = zipcode_component + incident_component + weekday_component + timebin_component\n"
   ]
  },
  {
   "cell_type": "code",
   "execution_count": 9,
   "id": "fb45d022",
   "metadata": {
    "execution": {
     "iopub.execute_input": "2023-10-22T17:08:51.582150Z",
     "iopub.status.busy": "2023-10-22T17:08:51.581752Z",
     "iopub.status.idle": "2023-10-22T17:08:58.485647Z",
     "shell.execute_reply": "2023-10-22T17:08:58.484136Z"
    },
    "papermill": {
     "duration": 6.911201,
     "end_time": "2023-10-22T17:08:58.488318",
     "exception": false,
     "start_time": "2023-10-22T17:08:51.577117",
     "status": "completed"
    },
    "tags": []
   },
   "outputs": [],
   "source": [
    "df.to_csv('/kaggle/working/weighted_safety_scores.csv', index=False)\n"
   ]
  },
  {
   "cell_type": "code",
   "execution_count": 10,
   "id": "68d515a3",
   "metadata": {
    "execution": {
     "iopub.execute_input": "2023-10-22T17:08:58.498248Z",
     "iopub.status.busy": "2023-10-22T17:08:58.497884Z",
     "iopub.status.idle": "2023-10-22T17:08:58.798571Z",
     "shell.execute_reply": "2023-10-22T17:08:58.797890Z"
    },
    "papermill": {
     "duration": 0.307578,
     "end_time": "2023-10-22T17:08:58.800408",
     "exception": false,
     "start_time": "2023-10-22T17:08:58.492830",
     "status": "completed"
    },
    "tags": []
   },
   "outputs": [
    {
     "data": {
      "image/png": "[encoded data removed]",
      "text/plain": [
       "<Figure size 640x480 with 1 Axes>"
      ]
     },
     "metadata": {},
     "output_type": "display_data"
    }
   ],
   "source": [
    "import matplotlib.pyplot as plt\n",
    "\n",
    "# Define the data you want to visualize\n",
    "data = df['Proxy Safety Score']\n",
    "\n",
    "# Define the number of bins for the histogram\n",
    "bins = 20\n",
    "\n",
    "# Choose colors for the bars and edges\n",
    "bar_color = 'royalblue'\n",
    "edge_color = 'black'\n",
    "\n",
    "# Set the transparency level for the bars\n",
    "alpha = 0.7\n",
    "\n",
    "# Create a histogram to visualize the data distribution\n",
    "plt.hist(data, bins=bins, color=bar_color, edgecolor=edge_color, alpha=alpha)\n",
    "\n",
    "# Add labels to the X and Y axes\n",
    "plt.xlabel('Safety Score')\n",
    "plt.ylabel('Frequency')\n",
    "\n",
    "# Set a title for the plot\n",
    "plt.title('Distribution of Safety Scores')\n",
    "\n",
    "# Add grid lines for better readability\n",
    "plt.grid(axis='y', linestyle='--', alpha=0.7)\n",
    "\n",
    "# Show the plot\n",
    "plt.show()"
   ]
  },
  {
   "cell_type": "code",
   "execution_count": 11,
   "id": "e2069586",
   "metadata": {
    "execution": {
     "iopub.execute_input": "2023-10-22T17:08:58.810092Z",
     "iopub.status.busy": "2023-10-22T17:08:58.809490Z",
     "iopub.status.idle": "2023-10-22T17:08:59.051552Z",
     "shell.execute_reply": "2023-10-22T17:08:59.050476Z"
    },
    "papermill": {
     "duration": 0.249815,
     "end_time": "2023-10-22T17:08:59.053940",
     "exception": false,
     "start_time": "2023-10-22T17:08:58.804125",
     "status": "completed"
    },
    "tags": []
   },
   "outputs": [
    {
     "data": {
      "image/png": "[encoded data removed]",
      "text/plain": [
       "<Figure size 640x480 with 1 Axes>"
      ]
     },
     "metadata": {},
     "output_type": "display_data"
    }
   ],
   "source": [
    "# Define the data for the box plot\n",
    "data = df['Proxy Safety Score']\n",
    "\n",
    "# Create a box plot with customized details\n",
    "plt.boxplot(data, vert=False, widths=0.7, patch_artist=True, boxprops={'facecolor': 'lightblue', 'edgecolor': 'black'})\n",
    "\n",
    "# Add labels to the X and Y axes\n",
    "plt.xlabel('Safety Score')\n",
    "plt.title('Quartile Plot of Safety Scores')\n",
    "\n",
    "# Display quartile statistics as text\n",
    "quartile_stats = [f'Min: {data.min()}', f'Q1: {data.quantile(0.25)}', f'Median: {data.median()}', f'Q3: {data.quantile(0.75)}', f'Max: {data.max()}']\n",
    "plt.annotate('\\n'.join(quartile_stats), xy=(0.8, 0.88), xycoords='axes fraction', fontsize=10, bbox=dict(facecolor='white', alpha=0.8))\n",
    "\n",
    "# Show the plot\n",
    "plt.show()"
   ]
  }
 ],
 "metadata": {
  "kernelspec": {
   "display_name": "Python 3",
   "language": "python",
   "name": "python3"
  },
  "language_info": {
   "codemirror_mode": {
    "name": "ipython",
    "version": 3
   },
   "file_extension": ".py",
   "mimetype": "text/x-python",
   "name": "python",
   "nbconvert_exporter": "python",
   "pygments_lexer": "ipython3",
   "version": "3.10.12"
  },
  "papermill": {
   "default_parameters": {},
   "duration": 18.240488,
   "end_time": "2023-10-22T17:09:02.485009",
   "environment_variables": {},
   "exception": null,
   "input_path": "__notebook__.ipynb",
   "output_path": "__notebook__.ipynb",
   "parameters": {},
   "start_time": "2023-10-22T17:08:44.244521",
   "version": "2.4.0"
  }
 },
 "nbformat": 4,
 "nbformat_minor": 5
}
